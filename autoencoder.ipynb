{
  "nbformat": 4,
  "nbformat_minor": 0,
  "metadata": {
    "colab": {
      "provenance": [],
      "toc_visible": true
    },
    "kernelspec": {
      "name": "python3",
      "display_name": "Python 3"
    },
    "language_info": {
      "name": "python"
    }
  },
  "cells": [
    {
      "cell_type": "code",
      "execution_count": null,
      "metadata": {
        "colab": {
          "base_uri": "https://localhost:8080/"
        },
        "id": "uMsTQL4bK-r8",
        "outputId": "7c0b86c3-ace9-4289-c5ce-4e638ee8b582"
      },
      "outputs": [
        {
          "output_type": "stream",
          "name": "stdout",
          "text": [
            "Collecting pylhe\n",
            "  Downloading pylhe-0.9.1-py3-none-any.whl.metadata (12 kB)\n",
            "Collecting awkward>=1.2.0 (from pylhe)\n",
            "  Downloading awkward-2.7.1-py3-none-any.whl.metadata (7.0 kB)\n",
            "Requirement already satisfied: graphviz>=0.12.0 in /usr/local/lib/python3.10/dist-packages (from pylhe) (0.20.3)\n",
            "Collecting particle>=0.16 (from pylhe)\n",
            "  Downloading particle-0.25.2-py3-none-any.whl.metadata (24 kB)\n",
            "Collecting vector>=0.8.1 (from pylhe)\n",
            "  Downloading vector-1.5.2-py3-none-any.whl.metadata (44 kB)\n",
            "\u001b[2K     \u001b[90m━━━━━━━━━━━━━━━━━━━━━━━━━━━━━━━━━━━━━━━━\u001b[0m \u001b[32m44.2/44.2 kB\u001b[0m \u001b[31m3.0 MB/s\u001b[0m eta \u001b[36m0:00:00\u001b[0m\n",
            "\u001b[?25hCollecting awkward-cpp==42 (from awkward>=1.2.0->pylhe)\n",
            "  Downloading awkward_cpp-42-cp310-cp310-manylinux_2_17_x86_64.manylinux2014_x86_64.whl.metadata (2.1 kB)\n",
            "Requirement already satisfied: fsspec>=2022.11.0 in /usr/local/lib/python3.10/dist-packages (from awkward>=1.2.0->pylhe) (2024.10.0)\n",
            "Requirement already satisfied: importlib-metadata>=4.13.0 in /usr/local/lib/python3.10/dist-packages (from awkward>=1.2.0->pylhe) (8.5.0)\n",
            "Requirement already satisfied: numpy>=1.18.0 in /usr/local/lib/python3.10/dist-packages (from awkward>=1.2.0->pylhe) (1.26.4)\n",
            "Requirement already satisfied: packaging in /usr/local/lib/python3.10/dist-packages (from awkward>=1.2.0->pylhe) (24.2)\n",
            "Requirement already satisfied: typing-extensions>=4.1.0 in /usr/local/lib/python3.10/dist-packages (from awkward>=1.2.0->pylhe) (4.12.2)\n",
            "Requirement already satisfied: attrs>=19.2 in /usr/local/lib/python3.10/dist-packages (from particle>=0.16->pylhe) (24.2.0)\n",
            "Collecting hepunits>=2.0.0 (from particle>=0.16->pylhe)\n",
            "  Downloading hepunits-2.3.5-py3-none-any.whl.metadata (7.3 kB)\n",
            "Requirement already satisfied: zipp>=3.20 in /usr/local/lib/python3.10/dist-packages (from importlib-metadata>=4.13.0->awkward>=1.2.0->pylhe) (3.21.0)\n",
            "Downloading pylhe-0.9.1-py3-none-any.whl (14 kB)\n",
            "Downloading awkward-2.7.1-py3-none-any.whl (863 kB)\n",
            "\u001b[2K   \u001b[90m━━━━━━━━━━━━━━━━━━━━━━━━━━━━━━━━━━━━━━━━\u001b[0m \u001b[32m864.0/864.0 kB\u001b[0m \u001b[31m23.6 MB/s\u001b[0m eta \u001b[36m0:00:00\u001b[0m\n",
            "\u001b[?25hDownloading awkward_cpp-42-cp310-cp310-manylinux_2_17_x86_64.manylinux2014_x86_64.whl (636 kB)\n",
            "\u001b[2K   \u001b[90m━━━━━━━━━━━━━━━━━━━━━━━━━━━━━━━━━━━━━━━━\u001b[0m \u001b[32m636.4/636.4 kB\u001b[0m \u001b[31m40.9 MB/s\u001b[0m eta \u001b[36m0:00:00\u001b[0m\n",
            "\u001b[?25hDownloading particle-0.25.2-py3-none-any.whl (290 kB)\n",
            "\u001b[2K   \u001b[90m━━━━━━━━━━━━━━━━━━━━━━━━━━━━━━━━━━━━━━━━\u001b[0m \u001b[32m290.5/290.5 kB\u001b[0m \u001b[31m20.5 MB/s\u001b[0m eta \u001b[36m0:00:00\u001b[0m\n",
            "\u001b[?25hDownloading vector-1.5.2-py3-none-any.whl (182 kB)\n",
            "\u001b[2K   \u001b[90m━━━━━━━━━━━━━━━━━━━━━━━━━━━━━━━━━━━━━━━━\u001b[0m \u001b[32m182.3/182.3 kB\u001b[0m \u001b[31m13.1 MB/s\u001b[0m eta \u001b[36m0:00:00\u001b[0m\n",
            "\u001b[?25hDownloading hepunits-2.3.5-py3-none-any.whl (14 kB)\n",
            "Installing collected packages: vector, hepunits, awkward-cpp, particle, awkward, pylhe\n",
            "Successfully installed awkward-2.7.1 awkward-cpp-42 hepunits-2.3.5 particle-0.25.2 pylhe-0.9.1 vector-1.5.2\n"
          ]
        }
      ],
      "source": [
        "!pip install pylhe\n"
      ]
    },
    {
      "cell_type": "markdown",
      "source": [
        "# another"
      ],
      "metadata": {
        "id": "B8UjCsVzVz-_"
      }
    },
    {
      "cell_type": "code",
      "source": [
        "import pylhe\n",
        "realback = '/content/hope2.lhe'\n",
        "#events_realback = pylhe.read_lhe_with_attributes(realback)\n",
        "events_realback = list(pylhe.read_lhe_with_attributes(realback))  # Convert generator to list\n",
        "'''\n",
        "midpoint = len(events_realback) // 2\n",
        "\n",
        "# Split the events into two parts\n",
        "part1 = events_realback[:midpoint]\n",
        "part2 = events_realback[midpoint:]\n",
        "'''\n",
        "\n",
        "import numpy as np\n",
        "\n",
        "import torch\n",
        "import torch.nn as nn\n",
        "import torch.optim as optim\n",
        "from sklearn.model_selection import train_test_split\n",
        "\n",
        "loss_of_model = []\n",
        "epoch_n = []\n",
        "# Initialize lists to store 4-momentum of muons and antimuons\n",
        "b_momentum = []\n",
        "antib_momentum = []\n",
        "\n",
        "# Loop through events and particles\n",
        "for event in events_realback:\n",
        "    for particle in event.particles:\n",
        "        if particle.id == 5:  #\n",
        "            b_momentum.append([particle.e, particle.px, particle.py, particle.pz])\n",
        "        elif particle.id == -5:\n",
        "            antib_momentum.append([particle.e, particle.px, particle.py, particle.pz])\n",
        "\n",
        "# Convert lists to NumPy arrays\n",
        "combined_list = [sublist1 + sublist2 for sublist1, sublist2 in zip(b_momentum, antib_momentum)]\n",
        "combined_list = np.array(combined_list)\n",
        "# Assuming combined_list is your input data\n",
        "\n",
        "mean = np.mean(combined_list, axis=0)\n",
        "std = np.std(combined_list, axis=0)\n",
        "\n",
        "# Normalize the data\n",
        "normalized_data = (combined_list - mean) / std\n",
        "\n",
        "# Now split the normalized data into train and test sets\n",
        "train_data, test_data = train_test_split(normalized_data, test_size=0.2, random_state=42)\n",
        "\n",
        "\n",
        "# Convert NumPy arrays to PyTorch tensors with float32 type\n",
        "train_tensor = torch.tensor(train_data, dtype=torch.float32)\n",
        "test_tensor = torch.tensor(test_data, dtype=torch.float32)\n",
        "# 8>128>64>2\n",
        "# Define the Autoencoder class\n",
        "#8>64>32>4>32>64>8.\n",
        "class Autoencoder(nn.Module):\n",
        "    def __init__(self):\n",
        "        super(Autoencoder, self).__init__()\n",
        "        # Encoder\n",
        "        self.encoder = nn.Sequential(\n",
        "            nn.Linear(8, 128),  # Compress from 8 features to 4\n",
        "            nn.ReLU(),\n",
        "            nn.Linear(128, 64),\n",
        "            nn.ReLU(),\n",
        "            nn.Linear(64, 2)\n",
        "\n",
        "        )\n",
        "        # Decoder\n",
        "        self.decoder = nn.Sequential(\n",
        "            nn.Linear(2, 64),\n",
        "            nn.ReLU(),\n",
        "            nn.Linear(64, 128),\n",
        "            nn.ReLU(),\n",
        "            nn.Linear(128, 8)  # Reconstruct back to 8 features\n",
        "        )\n",
        "\n",
        "    def forward(self, x):\n",
        "        # Encode the input\n",
        "        x = self.encoder(x)\n",
        "        # Decode the encoded representation\n",
        "        x = self.decoder(x)\n",
        "        return x\n",
        "\n",
        "# Create the autoencoder model\n",
        "model = Autoencoder()\n",
        "\n",
        "# Define a loss function and optimizer\n",
        "criterion = nn.MSELoss()\n",
        "optimizer = optim.Adam(model.parameters(), lr=0.015)\n",
        "\n",
        "# Training loop\n",
        "for epoch in range(500):  # Loop for 100 epochs\n",
        "\n",
        "    model.train()  # Set model to training mode\n",
        "    # Zero the gradients\n",
        "    optimizer.zero_grad()\n",
        "    # Forward pass\n",
        "    output = model(train_tensor)\n",
        "    # Compute the loss\n",
        "    loss = criterion(output, train_tensor)\n",
        "    # Backward pass\n",
        "    loss.backward()\n",
        "    # Update the weights\n",
        "    optimizer.step()\n",
        "\n",
        "    # Evaluate the model on the test set every 10 epochs\n",
        "\n",
        "    model.eval()  # Set model to evaluation mode\n",
        "    with torch.no_grad():  # Disable gradient computation\n",
        "        test_output = model(test_tensor)\n",
        "        test_loss = criterion(test_output, test_tensor)\n",
        "        epoch_n.append(epoch)\n",
        "        #print(f'Epoch [{epoch+1}/100], Test Loss: {test_loss.item():.4f}')\n",
        "    output_array = test_output.detach().numpy()\n",
        "    input_array = test_tensor.detach().numpy()\n",
        "    output_array, input_array = output_array*std+mean, input_array*std +mean\n",
        "    error = ((output_array[:, 0] + output_array[:, 4] - input_array[:, 0] - input_array[:, 4])**2 +\n",
        "            (output_array[:, 1] + output_array[:, 5] - input_array[:, 1] - input_array[:, 5])**2 +\n",
        "            (output_array[:, 2] + output_array[:, 6] - input_array[:, 2] - input_array[:, 6])**2 +\n",
        "            (output_array[:, 3] + output_array[:, 7] - input_array[:, 3] - input_array[:, 7])**2)\n",
        "    error_mean = np.mean(error)\n",
        "    loss_of_model.append(error_mean)\n",
        "\n"
      ],
      "metadata": {
        "id": "GYMq4MXGV2j5"
      },
      "execution_count": null,
      "outputs": []
    },
    {
      "cell_type": "code",
      "source": [
        "model.summary()"
      ],
      "metadata": {
        "colab": {
          "base_uri": "https://localhost:8080/",
          "height": 263
        },
        "id": "OPP73DjQV7XH",
        "outputId": "53185c17-7dff-4ef4-8364-8a45cbedd631"
      },
      "execution_count": null,
      "outputs": [
        {
          "output_type": "error",
          "ename": "AttributeError",
          "evalue": "'Autoencoder' object has no attribute 'summary'",
          "traceback": [
            "\u001b[0;31m---------------------------------------------------------------------------\u001b[0m",
            "\u001b[0;31mAttributeError\u001b[0m                            Traceback (most recent call last)",
            "\u001b[0;32m<ipython-input-283-5f15418b3570>\u001b[0m in \u001b[0;36m<cell line: 1>\u001b[0;34m()\u001b[0m\n\u001b[0;32m----> 1\u001b[0;31m \u001b[0mmodel\u001b[0m\u001b[0;34m.\u001b[0m\u001b[0msummary\u001b[0m\u001b[0;34m(\u001b[0m\u001b[0;34m)\u001b[0m\u001b[0;34m\u001b[0m\u001b[0;34m\u001b[0m\u001b[0m\n\u001b[0m",
            "\u001b[0;32m/usr/local/lib/python3.10/dist-packages/torch/nn/modules/module.py\u001b[0m in \u001b[0;36m__getattr__\u001b[0;34m(self, name)\u001b[0m\n\u001b[1;32m   1929\u001b[0m             \u001b[0;32mif\u001b[0m \u001b[0mname\u001b[0m \u001b[0;32min\u001b[0m \u001b[0mmodules\u001b[0m\u001b[0;34m:\u001b[0m\u001b[0;34m\u001b[0m\u001b[0;34m\u001b[0m\u001b[0m\n\u001b[1;32m   1930\u001b[0m                 \u001b[0;32mreturn\u001b[0m \u001b[0mmodules\u001b[0m\u001b[0;34m[\u001b[0m\u001b[0mname\u001b[0m\u001b[0;34m]\u001b[0m\u001b[0;34m\u001b[0m\u001b[0;34m\u001b[0m\u001b[0m\n\u001b[0;32m-> 1931\u001b[0;31m         raise AttributeError(\n\u001b[0m\u001b[1;32m   1932\u001b[0m             \u001b[0;34mf\"'{type(self).__name__}' object has no attribute '{name}'\"\u001b[0m\u001b[0;34m\u001b[0m\u001b[0;34m\u001b[0m\u001b[0m\n\u001b[1;32m   1933\u001b[0m         )\n",
            "\u001b[0;31mAttributeError\u001b[0m: 'Autoencoder' object has no attribute 'summary'"
          ]
        }
      ]
    },
    {
      "cell_type": "code",
      "source": [
        "import pylhe\n",
        "import numpy as np\n",
        "import torch\n",
        "import torch.nn as nn\n",
        "import torch.optim as optim\n",
        "from sklearn.model_selection import train_test_split\n",
        "import matplotlib.pyplot as plt\n",
        "\n",
        "# Load and process the data\n",
        "realback = '/content/hope2.lhe'\n",
        "events_realback = list(pylhe.read_lhe_with_attributes(realback))\n",
        "\n",
        "b_momentum = []\n",
        "antib_momentum = []\n",
        "\n",
        "for event in events_realback:\n",
        "    for particle in event.particles:\n",
        "        if particle.id == 5:\n",
        "            b_momentum.append([particle.e, particle.px, particle.py, particle.pz])\n",
        "        elif particle.id == -5:\n",
        "            antib_momentum.append([particle.e, particle.px, particle.py, particle.pz])\n",
        "\n",
        "combined_list = [sublist1 + sublist2 for sublist1, sublist2 in zip(b_momentum, antib_momentum)]\n",
        "combined_list = np.array(combined_list)\n",
        "\n",
        "mean = np.mean(combined_list, axis=0)\n",
        "std = np.std(combined_list, axis=0)\n",
        "normalized_data = (combined_list - mean) / std\n",
        "\n",
        "train_data, test_data = train_test_split(normalized_data, test_size=0.2, random_state=42)\n",
        "train_tensor = torch.tensor(train_data, dtype=torch.float32)\n",
        "test_tensor = torch.tensor(test_data, dtype=torch.float32)\n",
        "\n",
        "# Define the Autoencoder class\n",
        "class Autoencoder(nn.Module):\n",
        "    def __init__(self):\n",
        "        super(Autoencoder, self).__init__()\n",
        "        self.encoder = nn.Sequential(\n",
        "            nn.Linear(8, 128),\n",
        "            nn.ReLU(),\n",
        "            nn.Linear(128, 64),\n",
        "            nn.ReLU(),\n",
        "            nn.Linear(64, 2)\n",
        "        )\n",
        "        self.decoder = nn.Sequential(\n",
        "            nn.Linear(2, 64),\n",
        "            nn.ReLU(),\n",
        "            nn.Linear(64, 128),\n",
        "            nn.ReLU(),\n",
        "            nn.Linear(128, 8)\n",
        "        )\n",
        "\n",
        "    def forward(self, x):\n",
        "        x = self.encoder(x)\n",
        "        x = self.decoder(x)\n",
        "        return x\n",
        "\n",
        "# Create the autoencoder model\n",
        "model = Autoencoder()\n",
        "\n",
        "\n",
        "# Define a loss function and optimizer\n",
        "criterion = nn.MSELoss()\n",
        "optimizer = optim.Adam(model.parameters(), lr=0.015)\n",
        "\n",
        "# Training loop\n",
        "loss_of_model = []\n",
        "epoch_n = []\n",
        "\n",
        "for epoch in range(500):\n",
        "    model.train()\n",
        "    optimizer.zero_grad()\n",
        "    output = model(train_tensor)\n",
        "    loss = criterion(output, train_tensor)\n",
        "    loss.backward()\n",
        "    optimizer.step()\n",
        "\n",
        "    model.eval()\n",
        "    with torch.no_grad():\n",
        "        test_output = model(test_tensor)\n",
        "        test_loss = criterion(test_output, test_tensor)\n",
        "        epoch_n.append(epoch)\n",
        "        output_array = test_output.detach().numpy()\n",
        "        input_array = test_tensor.detach().numpy()\n",
        "        output_array, input_array = output_array * std + mean, input_array * std + mean\n",
        "        error = ((output_array[:, 0] + output_array[:, 4] - input_array[:, 0] - input_array[:, 4])**2 +\n",
        "                 (output_array[:, 1] + output_array[:, 5] - input_array[:, 1] - input_array[:, 5])**2 +\n",
        "                 (output_array[:, 2] + output_array[:, 6] - input_array[:, 2] - input_array[:, 6])**2 +\n",
        "                 (output_array[:, 3] + output_array[:, 7] - input_array[:, 3] - input_array[:, 7])**2)\n",
        "        error_mean = np.mean(error)\n",
        "        loss_of_model.append(error_mean)\n",
        "\n",
        "# Plot the training loss over epochs\n",
        "plt.plot(epoch_n, loss_of_model, label='Training Loss')\n",
        "plt.xlabel('Epoch')\n",
        "plt.ylabel('Mean Squared Error')\n",
        "plt.title('Training Loss Over Epochs')\n",
        "plt.legend()\n",
        "plt.show()"
      ],
      "metadata": {
        "colab": {
          "base_uri": "https://localhost:8080/",
          "height": 472
        },
        "id": "hvHsA23qWJxP",
        "outputId": "88374b53-d327-43c0-96cd-24e4ad68f1ed"
      },
      "execution_count": null,
      "outputs": [
        {
          "output_type": "display_data",
          "data": {
            "text/plain": [
              "<Figure size 640x480 with 1 Axes>"
            ],
            "image/png": "[encoded data removed]"
          },
          "metadata": {}
        }
      ]
    },
    {
      "cell_type": "code",
      "source": [
        "import matplotlib.pyplot as plt\n",
        "import numpy as np\n",
        "\n",
        "mass = (output_array[:, 0]+output_array[:, 4])**2-(output_array[:, 1] + output_array[:, 5])**2-(output_array[:, 2] + output_array[:, 6])**2-(output_array[:, 3] + output_array[:, 7])**2\n",
        "median = np.median(mass)**0.5\n",
        "mass = mass**0.5\n",
        "# Create a histogram\n",
        "plt.hist(mass, bins=500, alpha=0.75, edgecolor='black')\n",
        "\n",
        "# Add titles and labels\n",
        "plt.xlabel('Invariant Mass (GeV/c^2)')\n",
        "plt.ylabel('Frequency')\n",
        "plt.title('Histogram of Invariant Masses of bottom quark and bottom antiquark by output of autoencoder')\n",
        "\n",
        "print(median)\n",
        "\n",
        "# Show the plot\n",
        "plt.show()"
      ],
      "metadata": {
        "colab": {
          "base_uri": "https://localhost:8080/",
          "height": 524
        },
        "id": "42faIbipIhFN",
        "outputId": "9fc07eac-e5ac-49e8-dfe5-efb22e10e4a9"
      },
      "execution_count": null,
      "outputs": [
        {
          "output_type": "stream",
          "name": "stderr",
          "text": [
            "<ipython-input-144-3cf674f4f2ea>:6: RuntimeWarning: invalid value encountered in sqrt\n",
            "  mass = mass**0.5\n"
          ]
        },
        {
          "output_type": "stream",
          "name": "stdout",
          "text": [
            "368.33290552460966\n"
          ]
        },
        {
          "output_type": "display_data",
          "data": {
            "text/plain": [
              "<Figure size 640x480 with 1 Axes>"
            ],
            "image/png": "[encoded data removed]"
          },
          "metadata": {}
        }
      ]
    },
    {
      "cell_type": "markdown",
      "source": [
        "# back"
      ],
      "metadata": {
        "id": "qrxG59O5N-9v"
      }
    },
    {
      "cell_type": "code",
      "source": [
        "\n",
        "\n",
        "ano = '/content/ano.lhe'\n",
        "events_ano = pylhe.read_lhe_with_attributes(ano)\n",
        "import itertools\n",
        "\n",
        "\n",
        "realback = '/content/hope2.lhe'\n",
        "#events_realback = pylhe.read_lhe_with_attributes(realback)\n",
        "events_realback = list(pylhe.read_lhe_with_attributes(realback))  # Convert generator to list\n",
        "'''\n",
        "midpoint = len(events_realback) // 2\n",
        "\n",
        "# Split the events into two parts\n",
        "part1 = events_realback[:midpoint]\n",
        "part2 = events_realback[midpoint:]\n",
        "'''\n",
        "import torch\n",
        "import numpy as np\n",
        "b_momentum = []\n",
        "antib_momentum = []\n",
        "\n",
        "# Loop through events and particles\n",
        "#for event in events_realback:\n",
        "for event in events_realback:\n",
        "    for particle in event.particles:\n",
        "        if particle.id == 5:  # Muon\n",
        "            b_momentum.append([particle.e, particle.px, particle.py, particle.pz])\n",
        "        elif particle.id == -5:  # Antimuon\n",
        "            antib_momentum.append([particle.e, particle.px, particle.py, particle.pz])\n",
        "\n",
        "# Convert lists to NumPy arrays\n",
        "combined_list = [sublist1 + sublist2 for sublist1, sublist2 in zip(b_momentum, antib_momentum)]\n",
        "combined_list = np.array(combined_list)\n",
        "# Assuming `new_data` is your new input data\n",
        "\n",
        "mean = np.mean(combined_list, axis=0)\n",
        "std = np.std(combined_list, axis=0)\n",
        "\n",
        "# Normalize the new data\n",
        "input_array = combined_list\n",
        "normalized_new_data = (input_array - mean) / std\n",
        "\n",
        "# Convert to PyTorch tensor\n",
        "new_data_tensor = torch.tensor(normalized_new_data, dtype=torch.float32)\n",
        "\n",
        "# Set the model to evaluation mode\n",
        "model.eval()\n",
        "\n",
        "# Make predictions\n",
        "with torch.no_grad():  # Disable gradient computation\n",
        "    reconstructed_output = model(new_data_tensor)\n",
        "\n",
        "# Convert the output back to NumPy array\n",
        "output_array = reconstructed_output.detach().numpy()\n",
        "\n",
        "# Denormalize the output\n",
        "output_array = output_array * std + mean\n",
        "error_back = ((output_array[:, 0] + output_array[:, 4] - input_array[:, 0] - input_array[:, 4])**2 +\n",
        "        (output_array[:, 1] + output_array[:, 5] - input_array[:, 1] - input_array[:, 5])**2 +\n",
        "        (output_array[:, 2] + output_array[:, 6] - input_array[:, 2] - input_array[:, 6])**2 +\n",
        "        (output_array[:, 3] + output_array[:, 7] - input_array[:, 3] - input_array[:, 7])**2)\n"
      ],
      "metadata": {
        "id": "HGmU5dwGwPWO"
      },
      "execution_count": null,
      "outputs": []
    },
    {
      "cell_type": "code",
      "source": [
        "print(len(error_back))\n",
        "print(np.mean(error_back))"
      ],
      "metadata": {
        "colab": {
          "base_uri": "https://localhost:8080/"
        },
        "id": "pxr0SLLoabPm",
        "outputId": "7d416408-8dcb-42af-fc7a-798167407282"
      },
      "execution_count": null,
      "outputs": [
        {
          "output_type": "stream",
          "name": "stdout",
          "text": [
            "10000\n",
            "5742.719155659347\n"
          ]
        }
      ]
    },
    {
      "cell_type": "markdown",
      "source": [
        "# ano"
      ],
      "metadata": {
        "id": "DmZWLaOwOAOG"
      }
    },
    {
      "cell_type": "code",
      "source": [
        "realback = '/content/hope2.lhe'\n",
        "events_realback = pylhe.read_lhe_with_attributes(realback)\n",
        "ano = '/content/ano.lhe'\n",
        "events_ano = pylhe.read_lhe_with_attributes(ano)\n",
        "import itertools\n",
        "combined_events = itertools.chain(events_realback, events_ano)\n",
        "\n",
        "\n",
        "\n",
        "import torch\n",
        "import numpy as np\n",
        "b_momentum = []\n",
        "antib_momentum = []\n",
        "\n",
        "# Loop through events and particles\n",
        "for event in events_ano:\n",
        "    for particle in event.particles:\n",
        "        if particle.id == 5:  # Muon\n",
        "            b_momentum.append([particle.e, particle.px, particle.py, particle.pz])\n",
        "        elif particle.id == -5:  # Antimuon\n",
        "            antib_momentum.append([particle.e, particle.px, particle.py, particle.pz])\n",
        "\n",
        "# Convert lists to NumPy arrays\n",
        "combined_list = [sublist1 + sublist2 for sublist1, sublist2 in zip(b_momentum, antib_momentum)]\n",
        "combined_list = np.array(combined_list)\n",
        "# Assuming `new_data` is your new input data\n",
        "\n",
        "mean = np.mean(combined_list, axis=0)\n",
        "std = np.std(combined_list, axis=0)\n",
        "\n",
        "# Normalize the new data\n",
        "input_array = combined_list\n",
        "normalized_new_data = (input_array - mean) / std\n",
        "\n",
        "# Convert to PyTorch tensor\n",
        "new_data_tensor = torch.tensor(normalized_new_data, dtype=torch.float32)\n",
        "\n",
        "# Set the model to evaluation mode\n",
        "model.eval()\n",
        "\n",
        "# Make predictions\n",
        "with torch.no_grad():  # Disable gradient computation\n",
        "    reconstructed_output = model(new_data_tensor)\n",
        "\n",
        "# Convert the output back to NumPy array\n",
        "output_array = reconstructed_output.detach().numpy()\n",
        "\n",
        "# Denormalize the output\n",
        "output_array = output_array * std + mean\n",
        "error_ano = ((output_array[:, 0] + output_array[:, 4] - input_array[:, 0] - input_array[:, 4])**2 +\n",
        "        (output_array[:, 1] + output_array[:, 5] - input_array[:, 1] - input_array[:, 5])**2 +\n",
        "        (output_array[:, 2] + output_array[:, 6] - input_array[:, 2] - input_array[:, 6])**2 +\n",
        "        (output_array[:, 3] + output_array[:, 7] - input_array[:, 3] - input_array[:, 7])**2)\n"
      ],
      "metadata": {
        "id": "BLiXC9dGN-FZ"
      },
      "execution_count": null,
      "outputs": []
    },
    {
      "cell_type": "code",
      "source": [
        "print(np.mean(error_ano),np.std(error_ano))"
      ],
      "metadata": {
        "colab": {
          "base_uri": "https://localhost:8080/"
        },
        "id": "S9tiue2gpuei",
        "outputId": "e609dac7-0fbb-4f57-8c1c-cf4409be1b65"
      },
      "execution_count": null,
      "outputs": [
        {
          "output_type": "stream",
          "name": "stdout",
          "text": [
            "120257.13350065485 113921.43529989176\n"
          ]
        }
      ]
    },
    {
      "cell_type": "markdown",
      "source": [
        "# mix"
      ],
      "metadata": {
        "id": "90Q0QTF_Oi-S"
      }
    },
    {
      "cell_type": "code",
      "source": [
        "import random\n",
        "realback = '/content/hope2.lhe'\n",
        "events_realback = list(pylhe.read_lhe_with_attributes(realback))  # Convert generator to list\n",
        "ano = '/content/ano.lhe'\n",
        "events_ano = list(pylhe.read_lhe_with_attributes(ano))  # Convert generator to list\n",
        "\n",
        "# Determine the total number of events\n",
        "total_realback = len(events_realback)\n",
        "total_ano = len(events_ano)\n",
        "\n",
        "# Calculate the number of events to sample (80% from realback, 20% from ano)\n",
        "num_realback = int(0.8 * total_realback)\n",
        "num_ano = int(0.2 * total_ano)\n",
        "\n",
        "# Randomly sample events (ensure that the number of events is not greater than available events)\n",
        "sampled_realback = random.sample(events_realback, min(num_realback, total_realback))\n",
        "sampled_ano = random.sample(events_ano, min(num_ano, total_ano))\n",
        "\n",
        "# Combine the sampled events\n",
        "combined_events = sampled_realback + sampled_ano\n",
        "\n",
        "\n",
        "import torch\n",
        "import numpy as np\n",
        "b_momentum = []\n",
        "antib_momentum = []\n",
        "\n",
        "# Loop through events and particles\n",
        "for event in combined_events:\n",
        "    for particle in event.particles:\n",
        "        if particle.id == 5:  # Muon\n",
        "            b_momentum.append([particle.e, particle.px, particle.py, particle.pz])\n",
        "        elif particle.id == -5:  # Antimuon\n",
        "            antib_momentum.append([particle.e, particle.px, particle.py, particle.pz])\n",
        "\n",
        "# Convert lists to NumPy arrays\n",
        "combined_list = [sublist1 + sublist2 for sublist1, sublist2 in zip(b_momentum, antib_momentum)]\n",
        "combined_list = np.array(combined_list)\n",
        "# Assuming `new_data` is your new input data\n",
        "\n",
        "mean = np.mean(combined_list, axis=0)\n",
        "std = np.std(combined_list, axis=0)\n",
        "\n",
        "# Normalize the new data\n",
        "input_array = combined_list\n",
        "normalized_new_data = (input_array - mean) / std\n",
        "\n",
        "# Convert to PyTorch tensor\n",
        "new_data_tensor = torch.tensor(normalized_new_data, dtype=torch.float32)\n",
        "\n",
        "# Set the model to evaluation mode\n",
        "model.eval()\n",
        "\n",
        "# Make predictions\n",
        "with torch.no_grad():  # Disable gradient computation\n",
        "    reconstructed_output = model(new_data_tensor)\n",
        "\n",
        "# Convert the output back to NumPy array\n",
        "output_array = reconstructed_output.detach().numpy()\n",
        "\n",
        "# Denormalize the output\n",
        "output_array = output_array * std + mean\n",
        "error_mix = ((output_array[:, 0] + output_array[:, 4] - input_array[:, 0] - input_array[:, 4])**2 +\n",
        "        (output_array[:, 1] + output_array[:, 5] - input_array[:, 1] - input_array[:, 5])**2 +\n",
        "        (output_array[:, 2] + output_array[:, 6] - input_array[:, 2] - input_array[:, 6])**2 +\n",
        "        (output_array[:, 3] + output_array[:, 7] - input_array[:, 3] - input_array[:, 7])**2)\n"
      ],
      "metadata": {
        "id": "lY9pUs5LOiZg"
      },
      "execution_count": null,
      "outputs": []
    },
    {
      "cell_type": "code",
      "source": [
        "print(len(error_mix))\n"
      ],
      "metadata": {
        "colab": {
          "base_uri": "https://localhost:8080/"
        },
        "id": "XQsLrWq8Ztwd",
        "outputId": "784debb2-d5af-4ee2-e76b-0c4c76485aa6"
      },
      "execution_count": null,
      "outputs": [
        {
          "output_type": "stream",
          "name": "stdout",
          "text": [
            "10000\n"
          ]
        }
      ]
    },
    {
      "cell_type": "code",
      "source": [
        "import matplotlib.pyplot as plt\n",
        "import numpy as np\n",
        "'''\n",
        "error_mix1 = [x for x in error_mix if 0 <= x <= 50000]\n",
        "error_ano1 = [x for x in error_ano if 0 <= x <= 50000]\n",
        "'''\n",
        "plt.hist(error_back, bins=90, alpha=0.5,color = 'red', label='background')\n",
        "#plt.hist(error_mix, bins=250, alpha=0.5,color = 'blue' ,label='mix')\n",
        "plt.xlim(0, 500000)  # Adjust the x-axis range\n",
        "#plt.ylim(0, 50)  # Adjust the y-axis range\n",
        "# Adding labels and legend\n",
        "plt.xlabel('error')\n",
        "plt.ylabel('count')\n",
        "plt.title('Reconstruction error of muon and anti-muon')\n",
        "plt.legend()\n",
        "\n",
        "# Show plot\n",
        "plt.show()"
      ],
      "metadata": {
        "colab": {
          "base_uri": "https://localhost:8080/",
          "height": 211
        },
        "id": "ZpEp8AO8xCtA",
        "outputId": "235d598b-5079-42f5-91b4-856b742b7329"
      },
      "execution_count": null,
      "outputs": [
        {
          "output_type": "error",
          "ename": "NameError",
          "evalue": "name 'error_back' is not defined",
          "traceback": [
            "\u001b[0;31m---------------------------------------------------------------------------\u001b[0m",
            "\u001b[0;31mNameError\u001b[0m                                 Traceback (most recent call last)",
            "\u001b[0;32m<ipython-input-1-2aafff2d868d>\u001b[0m in \u001b[0;36m<cell line: 7>\u001b[0;34m()\u001b[0m\n\u001b[1;32m      5\u001b[0m \u001b[0merror_ano1\u001b[0m \u001b[0;34m=\u001b[0m \u001b[0;34m[\u001b[0m\u001b[0mx\u001b[0m \u001b[0;32mfor\u001b[0m \u001b[0mx\u001b[0m \u001b[0;32min\u001b[0m \u001b[0merror_ano\u001b[0m \u001b[0;32mif\u001b[0m \u001b[0;36m0\u001b[0m \u001b[0;34m<=\u001b[0m \u001b[0mx\u001b[0m \u001b[0;34m<=\u001b[0m \u001b[0;36m50000\u001b[0m\u001b[0;34m]\u001b[0m\u001b[0;34m\u001b[0m\u001b[0;34m\u001b[0m\u001b[0m\n\u001b[1;32m      6\u001b[0m '''\n\u001b[0;32m----> 7\u001b[0;31m \u001b[0mplt\u001b[0m\u001b[0;34m.\u001b[0m\u001b[0mhist\u001b[0m\u001b[0;34m(\u001b[0m\u001b[0merror_back\u001b[0m\u001b[0;34m,\u001b[0m \u001b[0mbins\u001b[0m\u001b[0;34m=\u001b[0m\u001b[0;36m90\u001b[0m\u001b[0;34m,\u001b[0m \u001b[0malpha\u001b[0m\u001b[0;34m=\u001b[0m\u001b[0;36m0.5\u001b[0m\u001b[0;34m,\u001b[0m\u001b[0mcolor\u001b[0m \u001b[0;34m=\u001b[0m \u001b[0;34m'red'\u001b[0m\u001b[0;34m,\u001b[0m \u001b[0mlabel\u001b[0m\u001b[0;34m=\u001b[0m\u001b[0;34m'background'\u001b[0m\u001b[0;34m)\u001b[0m\u001b[0;34m\u001b[0m\u001b[0;34m\u001b[0m\u001b[0m\n\u001b[0m\u001b[1;32m      8\u001b[0m \u001b[0;31m#plt.hist(error_mix, bins=250, alpha=0.5,color = 'blue' ,label='mix')\u001b[0m\u001b[0;34m\u001b[0m\u001b[0;34m\u001b[0m\u001b[0m\n\u001b[1;32m      9\u001b[0m \u001b[0mplt\u001b[0m\u001b[0;34m.\u001b[0m\u001b[0mxlim\u001b[0m\u001b[0;34m(\u001b[0m\u001b[0;36m0\u001b[0m\u001b[0;34m,\u001b[0m \u001b[0;36m500000\u001b[0m\u001b[0;34m)\u001b[0m  \u001b[0;31m# Adjust the x-axis range\u001b[0m\u001b[0;34m\u001b[0m\u001b[0;34m\u001b[0m\u001b[0m\n",
            "\u001b[0;31mNameError\u001b[0m: name 'error_back' is not defined"
          ]
        }
      ]
    },
    {
      "cell_type": "markdown",
      "source": [
        "# 2 plot"
      ],
      "metadata": {
        "id": "p5yhPDOZ6UKW"
      }
    },
    {
      "cell_type": "code",
      "source": [
        "import matplotlib.pyplot as plt\n",
        "import numpy as np\n",
        "\n",
        "# Sample data for demonstration\n",
        "\n",
        "# Create a figure with two subplots side by side\n",
        "fig, (ax1, ax2) = plt.subplots(1, 2, figsize=(14, 6))\n",
        "\n",
        "# Plot on the first subplot without plt.ylim(0, 150)\n",
        "ax1.hist(error_back, bins=90, alpha=0.5, color='red', label='background')\n",
        "ax1.hist(error_mix, bins=250, alpha=0.5, color='blue', label='mix')\n",
        "#ax1.set_xlim(0, 30000)\n",
        "ax1.set_xlabel('error')\n",
        "ax1.set_ylabel('Frequency')\n",
        "ax1.set_title('Reconstruction error of botton quark and anti-bottonm quark')\n",
        "ax1.legend()\n",
        "\n",
        "# Plot on the second subplot with plt.ylim(0, 150)\n",
        "ax2.hist(error_back, bins=90, alpha=0.5, color='red', label='background')\n",
        "ax2.hist(error_mix, bins=250, alpha=0.5, color='blue', label='mix')\n",
        "#ax2.set_xlim(0, 30000)\n",
        "ax2.set_ylim(0, 150)\n",
        "ax2.set_xlabel('error')\n",
        "ax2.set_ylabel('Frequency')\n",
        "ax2.set_title('Reconstruction error of botton quark and anti-bottonm quark')\n",
        "ax2.legend()\n",
        "\n",
        "# Show plot\n",
        "plt.tight_layout()\n",
        "plt.show()"
      ],
      "metadata": {
        "colab": {
          "base_uri": "https://localhost:8080/",
          "height": 562
        },
        "id": "PikllbK-6Tmx",
        "outputId": "32022193-0f27-4341-959d-d19123824f89"
      },
      "execution_count": null,
      "outputs": [
        {
          "output_type": "display_data",
          "data": {
            "text/plain": [
              "<Figure size 1400x600 with 2 Axes>"
            ],
            "image/png": "[encoded data removed]"
          },
          "metadata": {}
        }
      ]
    }
  ]
}