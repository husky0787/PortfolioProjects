{
  "cells": [
    {
      "cell_type": "markdown",
      "metadata": {
        "id": "OWr2nCJFbkIi"
      },
      "source": [
        "# Data preparation"
      ]
    },
    {
      "cell_type": "code",
      "execution_count": null,
      "metadata": {
        "id": "p25EEklQr2kG",
        "colab": {
          "base_uri": "https://localhost:8080/"
        },
        "outputId": "7dbeafd3-8ea2-4a96-9150-316f9ae31ca1"
      },
      "outputs": [
        {
          "output_type": "stream",
          "name": "stdout",
          "text": [
            "Error: [Errno 2] No such file or directory: 'C:/Users/lenovo/Desktop/churn.csv'\n"
          ]
        }
      ],
      "source": [
        "import pandas as pd\n",
        "\n",
        "# Ensure the file path is correct, using raw string or forward slashes in the path\n",
        "# file_name = \"C:\\Users\\lenovo\\Desktop\\churn.csv\"\n",
        "# or use forward slashes\n",
        "# \"C:\\Users\\lenovo\\Desktop\\ISOM 3360\\churn.csv.csv\"\n",
        "\n",
        "try:\n",
        "    df1 = pd.read_csv(\"C:/Users/lenovo/Desktop/churn.csv\")\n",
        "    print(\"List of columns:\", df1.columns.values)\n",
        "    print(df1.head())\n",
        "except FileNotFoundError as e:\n",
        "    print(f\"Error: {e}\")"
      ]
    },
    {
      "cell_type": "code",
      "execution_count": null,
      "metadata": {
        "colab": {
          "base_uri": "https://localhost:8080/"
        },
        "id": "Jykrww7aJft2",
        "outputId": "8d290ffd-0145-47d8-bed6-36c26a94763b"
      },
      "outputs": [
        {
          "output_type": "stream",
          "name": "stdout",
          "text": [
            "Object columns: Index(['gender', 'Partner', 'Dependents', 'PhoneService', 'MultipleLines',\n",
            "       'InternetService', 'OnlineSecurity', 'OnlineBackup', 'DeviceProtection',\n",
            "       'TechSupport', 'StreamingTV', 'StreamingMovies', 'Contract',\n",
            "       'PaperlessBilling', 'PaymentMethod', 'Churn'],\n",
            "      dtype='object')\n"
          ]
        }
      ],
      "source": [
        "object_columns = df1.select_dtypes(include=['object']).columns\n",
        "print(\"Object columns:\", object_columns)\n",
        "# find colmuns that need to be encoded"
      ]
    },
    {
      "cell_type": "code",
      "execution_count": null,
      "metadata": {
        "id": "ngfSGXnnsthO"
      },
      "outputs": [],
      "source": [
        "columns_to_encode = ['Churn','PaperlessBilling','PhoneService','Partner','Dependents','gender','TechSupport', 'MultipleLines',\n",
        "                     'InternetService', 'OnlineSecurity', 'OnlineBackup', 'DeviceProtection', 'StreamingTV', 'StreamingMovies', 'Contract', 'PaymentMethod']\n",
        "df_encoded = pd.get_dummies(df1, columns=columns_to_encode, prefix=columns_to_encode,drop_first=True)"
      ]
    },
    {
      "cell_type": "code",
      "execution_count": null,
      "metadata": {
        "colab": {
          "base_uri": "https://localhost:8080/"
        },
        "id": "2yxxu9gkHgo_",
        "outputId": "5a175f0e-66fb-48cf-f227-d57d67c54a85"
      },
      "outputs": [
        {
          "data": {
            "text/plain": [
              "Index(['SeniorCitizen', 'tenure', 'MonthlyCharges', 'Churn_Yes',\n",
              "       'PaperlessBilling_Yes', 'PhoneService_Yes', 'Partner_Yes',\n",
              "       'Dependents_Yes', 'gender_Male', 'TechSupport_No internet service',\n",
              "       'TechSupport_Yes', 'MultipleLines_No phone service',\n",
              "       'MultipleLines_Yes', 'InternetService_Fiber optic',\n",
              "       'InternetService_No', 'OnlineSecurity_No internet service',\n",
              "       'OnlineSecurity_Yes', 'OnlineBackup_No internet service',\n",
              "       'OnlineBackup_Yes', 'DeviceProtection_No internet service',\n",
              "       'DeviceProtection_Yes', 'StreamingTV_No internet service',\n",
              "       'StreamingTV_Yes', 'StreamingMovies_No internet service',\n",
              "       'StreamingMovies_Yes', 'Contract_One year', 'Contract_Two year',\n",
              "       'PaymentMethod_Credit card (automatic)',\n",
              "       'PaymentMethod_Electronic check', 'PaymentMethod_Mailed check'],\n",
              "      dtype='object')"
            ]
          },
          "execution_count": 27,
          "metadata": {},
          "output_type": "execute_result"
        }
      ],
      "source": [
        "df_encoded.columns"
      ]
    },
    {
      "cell_type": "code",
      "execution_count": null,
      "metadata": {
        "id": "XD5MlijzvR9x"
      },
      "outputs": [],
      "source": [
        "X = df_encoded.drop('Churn_Yes', axis=1)\n",
        "y = df_encoded['Churn_Yes']\n"
      ]
    },
    {
      "cell_type": "code",
      "execution_count": null,
      "metadata": {
        "id": "42PLsD-cxO5l"
      },
      "outputs": [],
      "source": [
        "import numpy as np\n",
        "import pandas as pd\n",
        "from sklearn.model_selection import train_test_split\n",
        "from sklearn.tree import DecisionTreeClassifier\n",
        "from sklearn.tree import plot_tree\n",
        "import matplotlib.pyplot as plt\n",
        "from sklearn.model_selection import cross_val_score\n",
        "from sklearn.ensemble import RandomForestClassifier\n",
        "from sklearn.model_selection import GridSearchCV\n",
        "from sklearn.linear_model import LogisticRegression\n",
        "from sklearn.linear_model import Lasso\n",
        "from sklearn.metrics import mean_absolute_error, r2_score\n",
        "from sklearn.metrics import accuracy_score\n",
        "from sklearn.metrics import classification_report, confusion_matrix\n",
        "from sklearn.metrics import roc_auc_score, roc_curve\n",
        "from sklearn.preprocessing import StandardScaler"
      ]
    },
    {
      "cell_type": "code",
      "execution_count": null,
      "metadata": {
        "id": "VpmKljUZxKgX"
      },
      "outputs": [],
      "source": [
        "X_train, X_test, y_train, y_test = train_test_split(X, y, test_size=0.3, random_state=114514)\n",
        "#split data\n",
        "scaler = StandardScaler()\n",
        "X_train_scaled = scaler.fit_transform(X_train)\n",
        "X_test_scaled = scaler.transform(X_test)"
      ]
    },
    {
      "cell_type": "code",
      "execution_count": null,
      "metadata": {
        "colab": {
          "base_uri": "https://localhost:8080/"
        },
        "id": "hoFgdleMuLEW",
        "outputId": "5559a025-c8c1-434f-a46c-2a5391afaa67"
      },
      "outputs": [
        {
          "name": "stdout",
          "output_type": "stream",
          "text": [
            "      SeniorCitizen  tenure  MonthlyCharges  PaperlessBilling_Yes  \\\n",
            "245               1       4           75.35                 False   \n",
            "5387              0      35           20.10                  True   \n",
            "1366              1       1           79.20                  True   \n",
            "1734              0       1           69.90                  True   \n",
            "820               0      47          103.10                  True   \n",
            "...             ...     ...             ...                   ...   \n",
            "3226              0      15           84.45                 False   \n",
            "2035              0      71           90.55                 False   \n",
            "1748              1      72           96.60                  True   \n",
            "2797              1      32          104.90                  True   \n",
            "6432              0      17           55.35                  True   \n",
            "\n",
            "      PhoneService_Yes  Partner_Yes  Dependents_Yes  gender_Male  \\\n",
            "245               True        False           False         True   \n",
            "5387              True        False            True        False   \n",
            "1366              True        False           False        False   \n",
            "1734              True        False           False         True   \n",
            "820               True        False           False         True   \n",
            "...                ...          ...             ...          ...   \n",
            "3226              True        False           False        False   \n",
            "2035              True         True           False         True   \n",
            "1748              True         True           False        False   \n",
            "2797              True         True           False         True   \n",
            "6432              True         True            True        False   \n",
            "\n",
            "      TechSupport_No internet service  TechSupport_Yes  ...  \\\n",
            "245                             False            False  ...   \n",
            "5387                             True            False  ...   \n",
            "1366                            False            False  ...   \n",
            "1734                            False            False  ...   \n",
            "820                             False            False  ...   \n",
            "...                               ...              ...  ...   \n",
            "3226                            False             True  ...   \n",
            "2035                            False             True  ...   \n",
            "1748                            False             True  ...   \n",
            "2797                            False             True  ...   \n",
            "6432                            False             True  ...   \n",
            "\n",
            "      DeviceProtection_Yes  StreamingTV_No internet service  StreamingTV_Yes  \\\n",
            "245                  False                            False            False   \n",
            "5387                 False                             True            False   \n",
            "1366                 False                            False             True   \n",
            "1734                 False                            False            False   \n",
            "820                   True                            False             True   \n",
            "...                    ...                              ...              ...   \n",
            "3226                  True                            False             True   \n",
            "2035                  True                            False             True   \n",
            "1748                  True                            False            False   \n",
            "2797                  True                            False             True   \n",
            "6432                 False                            False            False   \n",
            "\n",
            "      StreamingMovies_No internet service  StreamingMovies_Yes  \\\n",
            "245                                 False                False   \n",
            "5387                                 True                False   \n",
            "1366                                False                False   \n",
            "1734                                False                False   \n",
            "820                                 False                 True   \n",
            "...                                   ...                  ...   \n",
            "3226                                False                 True   \n",
            "2035                                False                 True   \n",
            "1748                                False                False   \n",
            "2797                                False                 True   \n",
            "6432                                False                False   \n",
            "\n",
            "      Contract_One year  Contract_Two year  \\\n",
            "245               False              False   \n",
            "5387               True              False   \n",
            "1366              False              False   \n",
            "1734              False              False   \n",
            "820                True              False   \n",
            "...                 ...                ...   \n",
            "3226              False              False   \n",
            "2035              False               True   \n",
            "1748              False               True   \n",
            "2797              False              False   \n",
            "6432              False              False   \n",
            "\n",
            "      PaymentMethod_Credit card (automatic)  PaymentMethod_Electronic check  \\\n",
            "245                                   False                            True   \n",
            "5387                                   True                           False   \n",
            "1366                                  False                            True   \n",
            "1734                                  False                            True   \n",
            "820                                   False                            True   \n",
            "...                                     ...                             ...   \n",
            "3226                                  False                           False   \n",
            "2035                                  False                           False   \n",
            "1748                                  False                           False   \n",
            "2797                                  False                            True   \n",
            "6432                                   True                           False   \n",
            "\n",
            "      PaymentMethod_Mailed check  \n",
            "245                        False  \n",
            "5387                       False  \n",
            "1366                       False  \n",
            "1734                       False  \n",
            "820                        False  \n",
            "...                          ...  \n",
            "3226                        True  \n",
            "2035                       False  \n",
            "1748                       False  \n",
            "2797                       False  \n",
            "6432                       False  \n",
            "\n",
            "[2110 rows x 29 columns]\n"
          ]
        }
      ],
      "source": [
        "print(X_test)"
      ]
    },
    {
      "cell_type": "markdown",
      "metadata": {
        "id": "ZY529ZRcbxlP"
      },
      "source": [
        "# Tree"
      ]
    },
    {
      "cell_type": "markdown",
      "metadata": {
        "id": "JvR9xkusf2vY"
      },
      "source": [
        "# Try GridSearchCV to find best parameters"
      ]
    },
    {
      "cell_type": "code",
      "execution_count": null,
      "metadata": {
        "id": "2qP81NAdgSKS"
      },
      "outputs": [],
      "source": [
        "from sklearn.ensemble import RandomForestClassifier\n",
        "from sklearn.model_selection import GridSearchCV"
      ]
    },
    {
      "cell_type": "code",
      "execution_count": null,
      "metadata": {
        "colab": {
          "base_uri": "https://localhost:8080/"
        },
        "id": "Xh_fRnkOf6Q2",
        "outputId": "615e94bb-813a-4cef-9645-6662c1c93b60"
      },
      "outputs": [
        {
          "name": "stdout",
          "output_type": "stream",
          "text": [
            "Best parameters: {'max_depth': 6, 'min_samples_leaf': 13}\n",
            "Best cross-validation score: 0.7897170138029982\n",
            "Test set score: 0.7943127962085308\n"
          ]
        }
      ],
      "source": [
        "\n",
        "rf = DecisionTreeClassifier(random_state=114514)\n",
        "num_leafs = range(10,30)\n",
        "# Define the parameter grid\n",
        "param_grid = {\n",
        "    'max_depth': np.arange(2,10,1),\n",
        "    'min_samples_leaf': num_leafs,\n",
        "\n",
        "}\n",
        "\n",
        "# Perform grid search\n",
        "grid_search = GridSearchCV(estimator=rf, param_grid=param_grid, cv=10, n_jobs=-1)\n",
        "grid_search.fit(X_train, y_train)\n",
        "\n",
        "# Best parameters and score\n",
        "print(f\"Best parameters: {grid_search.best_params_}\")\n",
        "print(f\"Best cross-validation score: {grid_search.best_score_}\") #f1score\n",
        "\n",
        "# Evaluate on test set\n",
        "best_rf = grid_search.best_estimator_\n",
        "test_score = best_rf.score(X_test, y_test)\n",
        "print(f\"Test set score: {test_score}\")"
      ]
    },
    {
      "cell_type": "markdown",
      "metadata": {
        "id": "088tttq742Bu"
      },
      "source": [
        "# train"
      ]
    },
    {
      "cell_type": "code",
      "execution_count": null,
      "metadata": {
        "colab": {
          "base_uri": "https://localhost:8080/",
          "height": 80
        },
        "id": "uY3u0T32yXQ8",
        "outputId": "fb5e4f52-5150-47f9-af07-14a5f39afe1b"
      },
      "outputs": [
        {
          "data": {
            "text/html": [
              "<style>#sk-container-id-1 {\n",
              "  /* Definition of color scheme common for light and dark mode */\n",
              "  --sklearn-color-text: black;\n",
              "  --sklearn-color-line: gray;\n",
              "  /* Definition of color scheme for unfitted estimators */\n",
              "  --sklearn-color-unfitted-level-0: #fff5e6;\n",
              "  --sklearn-color-unfitted-level-1: #f6e4d2;\n",
              "  --sklearn-color-unfitted-level-2: #ffe0b3;\n",
              "  --sklearn-color-unfitted-level-3: chocolate;\n",
              "  /* Definition of color scheme for fitted estimators */\n",
              "  --sklearn-color-fitted-level-0: #f0f8ff;\n",
              "  --sklearn-color-fitted-level-1: #d4ebff;\n",
              "  --sklearn-color-fitted-level-2: #b3dbfd;\n",
              "  --sklearn-color-fitted-level-3: cornflowerblue;\n",
              "\n",
              "  /* Specific color for light theme */\n",
              "  --sklearn-color-text-on-default-background: var(--sg-text-color, var(--theme-code-foreground, var(--jp-content-font-color1, black)));\n",
              "  --sklearn-color-background: var(--sg-background-color, var(--theme-background, var(--jp-layout-color0, white)));\n",
              "  --sklearn-color-border-box: var(--sg-text-color, var(--theme-code-foreground, var(--jp-content-font-color1, black)));\n",
              "  --sklearn-color-icon: #696969;\n",
              "\n",
              "  @media (prefers-color-scheme: dark) {\n",
              "    /* Redefinition of color scheme for dark theme */\n",
              "    --sklearn-color-text-on-default-background: var(--sg-text-color, var(--theme-code-foreground, var(--jp-content-font-color1, white)));\n",
              "    --sklearn-color-background: var(--sg-background-color, var(--theme-background, var(--jp-layout-color0, #111)));\n",
              "    --sklearn-color-border-box: var(--sg-text-color, var(--theme-code-foreground, var(--jp-content-font-color1, white)));\n",
              "    --sklearn-color-icon: #878787;\n",
              "  }\n",
              "}\n",
              "\n",
              "#sk-container-id-1 {\n",
              "  color: var(--sklearn-color-text);\n",
              "}\n",
              "\n",
              "#sk-container-id-1 pre {\n",
              "  padding: 0;\n",
              "}\n",
              "\n",
              "#sk-container-id-1 input.sk-hidden--visually {\n",
              "  border: 0;\n",
              "  clip: rect(1px 1px 1px 1px);\n",
              "  clip: rect(1px, 1px, 1px, 1px);\n",
              "  height: 1px;\n",
              "  margin: -1px;\n",
              "  overflow: hidden;\n",
              "  padding: 0;\n",
              "  position: absolute;\n",
              "  width: 1px;\n",
              "}\n",
              "\n",
              "#sk-container-id-1 div.sk-dashed-wrapped {\n",
              "  border: 1px dashed var(--sklearn-color-line);\n",
              "  margin: 0 0.4em 0.5em 0.4em;\n",
              "  box-sizing: border-box;\n",
              "  padding-bottom: 0.4em;\n",
              "  background-color: var(--sklearn-color-background);\n",
              "}\n",
              "\n",
              "#sk-container-id-1 div.sk-container {\n",
              "  /* jupyter's `normalize.less` sets `[hidden] { display: none; }`\n",
              "     but bootstrap.min.css set `[hidden] { display: none !important; }`\n",
              "     so we also need the `!important` here to be able to override the\n",
              "     default hidden behavior on the sphinx rendered scikit-learn.org.\n",
              "     See: https://github.com/scikit-learn/scikit-learn/issues/21755 */\n",
              "  display: inline-block !important;\n",
              "  position: relative;\n",
              "}\n",
              "\n",
              "#sk-container-id-1 div.sk-text-repr-fallback {\n",
              "  display: none;\n",
              "}\n",
              "\n",
              "div.sk-parallel-item,\n",
              "div.sk-serial,\n",
              "div.sk-item {\n",
              "  /* draw centered vertical line to link estimators */\n",
              "  background-image: linear-gradient(var(--sklearn-color-text-on-default-background), var(--sklearn-color-text-on-default-background));\n",
              "  background-size: 2px 100%;\n",
              "  background-repeat: no-repeat;\n",
              "  background-position: center center;\n",
              "}\n",
              "\n",
              "/* Parallel-specific style estimator block */\n",
              "\n",
              "#sk-container-id-1 div.sk-parallel-item::after {\n",
              "  content: \"\";\n",
              "  width: 100%;\n",
              "  border-bottom: 2px solid var(--sklearn-color-text-on-default-background);\n",
              "  flex-grow: 1;\n",
              "}\n",
              "\n",
              "#sk-container-id-1 div.sk-parallel {\n",
              "  display: flex;\n",
              "  align-items: stretch;\n",
              "  justify-content: center;\n",
              "  background-color: var(--sklearn-color-background);\n",
              "  position: relative;\n",
              "}\n",
              "\n",
              "#sk-container-id-1 div.sk-parallel-item {\n",
              "  display: flex;\n",
              "  flex-direction: column;\n",
              "}\n",
              "\n",
              "#sk-container-id-1 div.sk-parallel-item:first-child::after {\n",
              "  align-self: flex-end;\n",
              "  width: 50%;\n",
              "}\n",
              "\n",
              "#sk-container-id-1 div.sk-parallel-item:last-child::after {\n",
              "  align-self: flex-start;\n",
              "  width: 50%;\n",
              "}\n",
              "\n",
              "#sk-container-id-1 div.sk-parallel-item:only-child::after {\n",
              "  width: 0;\n",
              "}\n",
              "\n",
              "/* Serial-specific style estimator block */\n",
              "\n",
              "#sk-container-id-1 div.sk-serial {\n",
              "  display: flex;\n",
              "  flex-direction: column;\n",
              "  align-items: center;\n",
              "  background-color: var(--sklearn-color-background);\n",
              "  padding-right: 1em;\n",
              "  padding-left: 1em;\n",
              "}\n",
              "\n",
              "\n",
              "/* Toggleable style: style used for estimator/Pipeline/ColumnTransformer box that is\n",
              "clickable and can be expanded/collapsed.\n",
              "- Pipeline and ColumnTransformer use this feature and define the default style\n",
              "- Estimators will overwrite some part of the style using the `sk-estimator` class\n",
              "*/\n",
              "\n",
              "/* Pipeline and ColumnTransformer style (default) */\n",
              "\n",
              "#sk-container-id-1 div.sk-toggleable {\n",
              "  /* Default theme specific background. It is overwritten whether we have a\n",
              "  specific estimator or a Pipeline/ColumnTransformer */\n",
              "  background-color: var(--sklearn-color-background);\n",
              "}\n",
              "\n",
              "/* Toggleable label */\n",
              "#sk-container-id-1 label.sk-toggleable__label {\n",
              "  cursor: pointer;\n",
              "  display: block;\n",
              "  width: 100%;\n",
              "  margin-bottom: 0;\n",
              "  padding: 0.5em;\n",
              "  box-sizing: border-box;\n",
              "  text-align: center;\n",
              "}\n",
              "\n",
              "#sk-container-id-1 label.sk-toggleable__label-arrow:before {\n",
              "  /* Arrow on the left of the label */\n",
              "  content: \"▸\";\n",
              "  float: left;\n",
              "  margin-right: 0.25em;\n",
              "  color: var(--sklearn-color-icon);\n",
              "}\n",
              "\n",
              "#sk-container-id-1 label.sk-toggleable__label-arrow:hover:before {\n",
              "  color: var(--sklearn-color-text);\n",
              "}\n",
              "\n",
              "/* Toggleable content - dropdown */\n",
              "\n",
              "#sk-container-id-1 div.sk-toggleable__content {\n",
              "  max-height: 0;\n",
              "  max-width: 0;\n",
              "  overflow: hidden;\n",
              "  text-align: left;\n",
              "  /* unfitted */\n",
              "  background-color: var(--sklearn-color-unfitted-level-0);\n",
              "}\n",
              "\n",
              "#sk-container-id-1 div.sk-toggleable__content.fitted {\n",
              "  /* fitted */\n",
              "  background-color: var(--sklearn-color-fitted-level-0);\n",
              "}\n",
              "\n",
              "#sk-container-id-1 div.sk-toggleable__content pre {\n",
              "  margin: 0.2em;\n",
              "  border-radius: 0.25em;\n",
              "  color: var(--sklearn-color-text);\n",
              "  /* unfitted */\n",
              "  background-color: var(--sklearn-color-unfitted-level-0);\n",
              "}\n",
              "\n",
              "#sk-container-id-1 div.sk-toggleable__content.fitted pre {\n",
              "  /* unfitted */\n",
              "  background-color: var(--sklearn-color-fitted-level-0);\n",
              "}\n",
              "\n",
              "#sk-container-id-1 input.sk-toggleable__control:checked~div.sk-toggleable__content {\n",
              "  /* Expand drop-down */\n",
              "  max-height: 200px;\n",
              "  max-width: 100%;\n",
              "  overflow: auto;\n",
              "}\n",
              "\n",
              "#sk-container-id-1 input.sk-toggleable__control:checked~label.sk-toggleable__label-arrow:before {\n",
              "  content: \"▾\";\n",
              "}\n",
              "\n",
              "/* Pipeline/ColumnTransformer-specific style */\n",
              "\n",
              "#sk-container-id-1 div.sk-label input.sk-toggleable__control:checked~label.sk-toggleable__label {\n",
              "  color: var(--sklearn-color-text);\n",
              "  background-color: var(--sklearn-color-unfitted-level-2);\n",
              "}\n",
              "\n",
              "#sk-container-id-1 div.sk-label.fitted input.sk-toggleable__control:checked~label.sk-toggleable__label {\n",
              "  background-color: var(--sklearn-color-fitted-level-2);\n",
              "}\n",
              "\n",
              "/* Estimator-specific style */\n",
              "\n",
              "/* Colorize estimator box */\n",
              "#sk-container-id-1 div.sk-estimator input.sk-toggleable__control:checked~label.sk-toggleable__label {\n",
              "  /* unfitted */\n",
              "  background-color: var(--sklearn-color-unfitted-level-2);\n",
              "}\n",
              "\n",
              "#sk-container-id-1 div.sk-estimator.fitted input.sk-toggleable__control:checked~label.sk-toggleable__label {\n",
              "  /* fitted */\n",
              "  background-color: var(--sklearn-color-fitted-level-2);\n",
              "}\n",
              "\n",
              "#sk-container-id-1 div.sk-label label.sk-toggleable__label,\n",
              "#sk-container-id-1 div.sk-label label {\n",
              "  /* The background is the default theme color */\n",
              "  color: var(--sklearn-color-text-on-default-background);\n",
              "}\n",
              "\n",
              "/* On hover, darken the color of the background */\n",
              "#sk-container-id-1 div.sk-label:hover label.sk-toggleable__label {\n",
              "  color: var(--sklearn-color-text);\n",
              "  background-color: var(--sklearn-color-unfitted-level-2);\n",
              "}\n",
              "\n",
              "/* Label box, darken color on hover, fitted */\n",
              "#sk-container-id-1 div.sk-label.fitted:hover label.sk-toggleable__label.fitted {\n",
              "  color: var(--sklearn-color-text);\n",
              "  background-color: var(--sklearn-color-fitted-level-2);\n",
              "}\n",
              "\n",
              "/* Estimator label */\n",
              "\n",
              "#sk-container-id-1 div.sk-label label {\n",
              "  font-family: monospace;\n",
              "  font-weight: bold;\n",
              "  display: inline-block;\n",
              "  line-height: 1.2em;\n",
              "}\n",
              "\n",
              "#sk-container-id-1 div.sk-label-container {\n",
              "  text-align: center;\n",
              "}\n",
              "\n",
              "/* Estimator-specific */\n",
              "#sk-container-id-1 div.sk-estimator {\n",
              "  font-family: monospace;\n",
              "  border: 1px dotted var(--sklearn-color-border-box);\n",
              "  border-radius: 0.25em;\n",
              "  box-sizing: border-box;\n",
              "  margin-bottom: 0.5em;\n",
              "  /* unfitted */\n",
              "  background-color: var(--sklearn-color-unfitted-level-0);\n",
              "}\n",
              "\n",
              "#sk-container-id-1 div.sk-estimator.fitted {\n",
              "  /* fitted */\n",
              "  background-color: var(--sklearn-color-fitted-level-0);\n",
              "}\n",
              "\n",
              "/* on hover */\n",
              "#sk-container-id-1 div.sk-estimator:hover {\n",
              "  /* unfitted */\n",
              "  background-color: var(--sklearn-color-unfitted-level-2);\n",
              "}\n",
              "\n",
              "#sk-container-id-1 div.sk-estimator.fitted:hover {\n",
              "  /* fitted */\n",
              "  background-color: var(--sklearn-color-fitted-level-2);\n",
              "}\n",
              "\n",
              "/* Specification for estimator info (e.g. \"i\" and \"?\") */\n",
              "\n",
              "/* Common style for \"i\" and \"?\" */\n",
              "\n",
              ".sk-estimator-doc-link,\n",
              "a:link.sk-estimator-doc-link,\n",
              "a:visited.sk-estimator-doc-link {\n",
              "  float: right;\n",
              "  font-size: smaller;\n",
              "  line-height: 1em;\n",
              "  font-family: monospace;\n",
              "  background-color: var(--sklearn-color-background);\n",
              "  border-radius: 1em;\n",
              "  height: 1em;\n",
              "  width: 1em;\n",
              "  text-decoration: none !important;\n",
              "  margin-left: 1ex;\n",
              "  /* unfitted */\n",
              "  border: var(--sklearn-color-unfitted-level-1) 1pt solid;\n",
              "  color: var(--sklearn-color-unfitted-level-1);\n",
              "}\n",
              "\n",
              ".sk-estimator-doc-link.fitted,\n",
              "a:link.sk-estimator-doc-link.fitted,\n",
              "a:visited.sk-estimator-doc-link.fitted {\n",
              "  /* fitted */\n",
              "  border: var(--sklearn-color-fitted-level-1) 1pt solid;\n",
              "  color: var(--sklearn-color-fitted-level-1);\n",
              "}\n",
              "\n",
              "/* On hover */\n",
              "div.sk-estimator:hover .sk-estimator-doc-link:hover,\n",
              ".sk-estimator-doc-link:hover,\n",
              "div.sk-label-container:hover .sk-estimator-doc-link:hover,\n",
              ".sk-estimator-doc-link:hover {\n",
              "  /* unfitted */\n",
              "  background-color: var(--sklearn-color-unfitted-level-3);\n",
              "  color: var(--sklearn-color-background);\n",
              "  text-decoration: none;\n",
              "}\n",
              "\n",
              "div.sk-estimator.fitted:hover .sk-estimator-doc-link.fitted:hover,\n",
              ".sk-estimator-doc-link.fitted:hover,\n",
              "div.sk-label-container:hover .sk-estimator-doc-link.fitted:hover,\n",
              ".sk-estimator-doc-link.fitted:hover {\n",
              "  /* fitted */\n",
              "  background-color: var(--sklearn-color-fitted-level-3);\n",
              "  color: var(--sklearn-color-background);\n",
              "  text-decoration: none;\n",
              "}\n",
              "\n",
              "/* Span, style for the box shown on hovering the info icon */\n",
              ".sk-estimator-doc-link span {\n",
              "  display: none;\n",
              "  z-index: 9999;\n",
              "  position: relative;\n",
              "  font-weight: normal;\n",
              "  right: .2ex;\n",
              "  padding: .5ex;\n",
              "  margin: .5ex;\n",
              "  width: min-content;\n",
              "  min-width: 20ex;\n",
              "  max-width: 50ex;\n",
              "  color: var(--sklearn-color-text);\n",
              "  box-shadow: 2pt 2pt 4pt #999;\n",
              "  /* unfitted */\n",
              "  background: var(--sklearn-color-unfitted-level-0);\n",
              "  border: .5pt solid var(--sklearn-color-unfitted-level-3);\n",
              "}\n",
              "\n",
              ".sk-estimator-doc-link.fitted span {\n",
              "  /* fitted */\n",
              "  background: var(--sklearn-color-fitted-level-0);\n",
              "  border: var(--sklearn-color-fitted-level-3);\n",
              "}\n",
              "\n",
              ".sk-estimator-doc-link:hover span {\n",
              "  display: block;\n",
              "}\n",
              "\n",
              "/* \"?\"-specific style due to the `<a>` HTML tag */\n",
              "\n",
              "#sk-container-id-1 a.estimator_doc_link {\n",
              "  float: right;\n",
              "  font-size: 1rem;\n",
              "  line-height: 1em;\n",
              "  font-family: monospace;\n",
              "  background-color: var(--sklearn-color-background);\n",
              "  border-radius: 1rem;\n",
              "  height: 1rem;\n",
              "  width: 1rem;\n",
              "  text-decoration: none;\n",
              "  /* unfitted */\n",
              "  color: var(--sklearn-color-unfitted-level-1);\n",
              "  border: var(--sklearn-color-unfitted-level-1) 1pt solid;\n",
              "}\n",
              "\n",
              "#sk-container-id-1 a.estimator_doc_link.fitted {\n",
              "  /* fitted */\n",
              "  border: var(--sklearn-color-fitted-level-1) 1pt solid;\n",
              "  color: var(--sklearn-color-fitted-level-1);\n",
              "}\n",
              "\n",
              "/* On hover */\n",
              "#sk-container-id-1 a.estimator_doc_link:hover {\n",
              "  /* unfitted */\n",
              "  background-color: var(--sklearn-color-unfitted-level-3);\n",
              "  color: var(--sklearn-color-background);\n",
              "  text-decoration: none;\n",
              "}\n",
              "\n",
              "#sk-container-id-1 a.estimator_doc_link.fitted:hover {\n",
              "  /* fitted */\n",
              "  background-color: var(--sklearn-color-fitted-level-3);\n",
              "}\n",
              "</style><div id=\"sk-container-id-1\" class=\"sk-top-container\"><div class=\"sk-text-repr-fallback\"><pre>DecisionTreeClassifier(max_depth=6, min_samples_leaf=13)</pre><b>In a Jupyter environment, please rerun this cell to show the HTML representation or trust the notebook. <br />On GitHub, the HTML representation is unable to render, please try loading this page with nbviewer.org.</b></div><div class=\"sk-container\" hidden><div class=\"sk-item\"><div class=\"sk-estimator fitted sk-toggleable\"><input class=\"sk-toggleable__control sk-hidden--visually\" id=\"sk-estimator-id-1\" type=\"checkbox\" checked><label for=\"sk-estimator-id-1\" class=\"sk-toggleable__label fitted sk-toggleable__label-arrow fitted\">&nbsp;&nbsp;DecisionTreeClassifier<a class=\"sk-estimator-doc-link fitted\" rel=\"noreferrer\" target=\"_blank\" href=\"https://scikit-learn.org/1.5/modules/generated/sklearn.tree.DecisionTreeClassifier.html\">?<span>Documentation for DecisionTreeClassifier</span></a><span class=\"sk-estimator-doc-link fitted\">i<span>Fitted</span></span></label><div class=\"sk-toggleable__content fitted\"><pre>DecisionTreeClassifier(max_depth=6, min_samples_leaf=13)</pre></div> </div></div></div></div>"
            ],
            "text/plain": [
              "DecisionTreeClassifier(max_depth=6, min_samples_leaf=13)"
            ]
          },
          "execution_count": 34,
          "metadata": {},
          "output_type": "execute_result"
        }
      ],
      "source": [
        "\n",
        "tree_model = DecisionTreeClassifier(max_depth=6, min_samples_leaf=13) #best choie so far\n",
        "tree_model.fit(X_train, y_train)"
      ]
    },
    {
      "cell_type": "code",
      "execution_count": null,
      "metadata": {
        "colab": {
          "base_uri": "https://localhost:8080/"
        },
        "id": "-KEqRPqh7fCJ",
        "outputId": "cf85e27c-6cfa-4048-9489-c0c250f971a8"
      },
      "outputs": [
        {
          "name": "stdout",
          "output_type": "stream",
          "text": [
            "Confusion Matrix:\n",
            " [[1381  171]\n",
            " [ 263  295]]\n"
          ]
        }
      ],
      "source": [
        "y_pred = tree_model.predict(X_test)\n",
        "cm = confusion_matrix(y_test, y_pred)\n",
        "print(\"Confusion Matrix:\\n\", cm)"
      ]
    },
    {
      "cell_type": "code",
      "execution_count": null,
      "metadata": {
        "colab": {
          "base_uri": "https://localhost:8080/"
        },
        "id": "0Oz9S5354DRd",
        "outputId": "725be142-ee86-45e6-f520-631bec0cb3a4"
      },
      "outputs": [
        {
          "name": "stdout",
          "output_type": "stream",
          "text": [
            "Cross-Validation Scores: [0.80016659 0.84893604 0.76690068 0.82975619 0.82833943 0.79607113\n",
            " 0.78858557 0.82261953 0.82782136 0.84933708]\n",
            "Mean Accuracy: 0.8158533595561621\n"
          ]
        }
      ],
      "source": [
        "# Perform 10-fold cross-validation\n",
        "scores = cross_val_score(tree_model, X_train, y_train, cv=10, scoring='roc_auc')\n",
        "print(\"Cross-Validation Scores:\", scores)\n",
        "print(\"Mean Accuracy:\", scores.mean())"
      ]
    },
    {
      "cell_type": "code",
      "execution_count": null,
      "metadata": {
        "id": "T6XxGrddzFH8"
      },
      "outputs": [],
      "source": [
        "y_pred_proba = tree_model.predict_proba(X_test)[:, 1]\n",
        "y_pred = tree_model.predict(X_test)\n",
        "\n",
        "\n",
        "threshold = 0.5\n",
        "y_pred = (y_pred_proba >= threshold).astype(int)\n",
        "\n"
      ]
    },
    {
      "cell_type": "code",
      "execution_count": null,
      "metadata": {
        "colab": {
          "base_uri": "https://localhost:8080/"
        },
        "id": "OdIP5GBUzIW0",
        "outputId": "45cedb21-ec27-4816-a6e0-61ec36be252e"
      },
      "outputs": [
        {
          "name": "stdout",
          "output_type": "stream",
          "text": [
            "Confusion Matrix:\n",
            " [[1381  171]\n",
            " [ 263  295]]\n",
            "Classification Report:\n",
            "               precision    recall  f1-score   support\n",
            "\n",
            "       False       0.84      0.89      0.86      1552\n",
            "        True       0.63      0.53      0.58       558\n",
            "\n",
            "    accuracy                           0.79      2110\n",
            "   macro avg       0.74      0.71      0.72      2110\n",
            "weighted avg       0.79      0.79      0.79      2110\n",
            "\n"
          ]
        }
      ],
      "source": [
        "\n",
        "cm = confusion_matrix(y_test, y_pred)\n",
        "print(\"Confusion Matrix:\\n\", cm)\n",
        "\n",
        "\n",
        "cr = classification_report(y_test, y_pred)\n",
        "print(\"Classification Report:\\n\", cr)"
      ]
    },
    {
      "cell_type": "code",
      "execution_count": null,
      "metadata": {
        "colab": {
          "base_uri": "https://localhost:8080/",
          "height": 489
        },
        "id": "hkDpBoyPwxZl",
        "outputId": "19c0563d-f907-43a2-f2f7-23beac850714"
      },
      "outputs": [
        {
          "name": "stdout",
          "output_type": "stream",
          "text": [
            "AUC: 0.8289327217972877\n"
          ]
        },
        {
          "data": {
            "image/png": "[encoded data removed]",
            "text/plain": [
              "<Figure size 640x480 with 1 Axes>"
            ]
          },
          "metadata": {},
          "output_type": "display_data"
        }
      ],
      "source": [
        "auc = roc_auc_score(y_test, y_pred_proba)\n",
        "print(f\"AUC: {auc}\")\n",
        "\n",
        "# Plot ROC Curve\n",
        "fpr, tpr, _ = roc_curve(y_test, y_pred_proba)\n",
        "plt.plot(fpr, tpr, label=f'AUC = {auc:.2f}')\n",
        "plt.xlabel('False Positive Rate')\n",
        "plt.ylabel('True Positive Rate')\n",
        "plt.title('ROC Curve')\n",
        "plt.legend(loc='best')\n",
        "plt.show()"
      ]
    },
    {
      "cell_type": "code",
      "execution_count": null,
      "metadata": {
        "colab": {
          "base_uri": "https://localhost:8080/"
        },
        "id": "o2EU8vUPCh2j",
        "outputId": "b9d77539-7073-4164-a6da-f3ad9970c7be"
      },
      "outputs": [
        {
          "name": "stdout",
          "output_type": "stream",
          "text": [
            "Most important features:\n",
            "                                  feature  importance\n",
            "1                                  tenure    0.513000\n",
            "12            InternetService_Fiber optic    0.292319\n",
            "2                          MonthlyCharges    0.075693\n",
            "24                      Contract_One year    0.024298\n",
            "25                      Contract_Two year    0.016779\n",
            "8         TechSupport_No internet service    0.015631\n",
            "27         PaymentMethod_Electronic check    0.014866\n",
            "0                           SeniorCitizen    0.011405\n",
            "3                    PaperlessBilling_Yes    0.010975\n",
            "15                     OnlineSecurity_Yes    0.007664\n",
            "4                        PhoneService_Yes    0.006861\n",
            "17                       OnlineBackup_Yes    0.004922\n",
            "7                             gender_Male    0.002459\n",
            "11                      MultipleLines_Yes    0.001679\n",
            "9                         TechSupport_Yes    0.001448\n",
            "20        StreamingTV_No internet service    0.000000\n",
            "26  PaymentMethod_Credit card (automatic)    0.000000\n",
            "23                    StreamingMovies_Yes    0.000000\n",
            "22    StreamingMovies_No internet service    0.000000\n",
            "21                        StreamingTV_Yes    0.000000\n",
            "14     OnlineSecurity_No internet service    0.000000\n",
            "19                   DeviceProtection_Yes    0.000000\n",
            "18   DeviceProtection_No internet service    0.000000\n",
            "16       OnlineBackup_No internet service    0.000000\n",
            "13                     InternetService_No    0.000000\n",
            "10         MultipleLines_No phone service    0.000000\n",
            "6                          Dependents_Yes    0.000000\n",
            "5                             Partner_Yes    0.000000\n",
            "28             PaymentMethod_Mailed check    0.000000\n"
          ]
        }
      ],
      "source": [
        "# Get feature importances\n",
        "importances = pd.DataFrame({\n",
        "    'feature': X_train.columns,\n",
        "    'importance': tree_model.feature_importances_\n",
        "})\n",
        "importances = importances.sort_values('importance', ascending=False)\n",
        "\n",
        "# Print top 5-10 most important features\n",
        "print(\"Most important features:\")\n",
        "print(importances)\n",
        "\n"
      ]
    },
    {
      "cell_type": "markdown",
      "metadata": {
        "id": "3kbEOz1N10BF"
      },
      "source": [
        "# High- and low-probability churning customers"
      ]
    },
    {
      "cell_type": "code",
      "execution_count": null,
      "metadata": {
        "colab": {
          "base_uri": "https://localhost:8080/"
        },
        "id": "aMfS-gEcXtAk",
        "outputId": "5ffe612a-b21c-48fa-c60a-344c203e6fec"
      },
      "outputs": [
        {
          "name": "stdout",
          "output_type": "stream",
          "text": [
            "High-probability churners characteristics:\n",
            "        SeniorCitizen      tenure  MonthlyCharges PaperlessBilling_Yes  \\\n",
            "count      177.000000  177.000000      177.000000                  177   \n",
            "unique            NaN         NaN             NaN                    2   \n",
            "top               NaN         NaN             NaN                 True   \n",
            "freq              NaN         NaN             NaN                  132   \n",
            "mean         0.282486    3.644068       84.157062                  NaN   \n",
            "std          0.451486    3.476035       11.858201                  NaN   \n",
            "min          0.000000    1.000000       25.100000                  NaN   \n",
            "25%          0.000000    1.000000       75.900000                  NaN   \n",
            "50%          0.000000    2.000000       84.300000                  NaN   \n",
            "75%          1.000000    5.000000       93.850000                  NaN   \n",
            "max          1.000000   17.000000      110.100000                  NaN   \n",
            "\n",
            "       PhoneService_Yes Partner_Yes Dependents_Yes gender_Male  \\\n",
            "count               177         177            177         177   \n",
            "unique                2           2              2           2   \n",
            "top                True       False          False       False   \n",
            "freq                175         134            156          89   \n",
            "mean                NaN         NaN            NaN         NaN   \n",
            "std                 NaN         NaN            NaN         NaN   \n",
            "min                 NaN         NaN            NaN         NaN   \n",
            "25%                 NaN         NaN            NaN         NaN   \n",
            "50%                 NaN         NaN            NaN         NaN   \n",
            "75%                 NaN         NaN            NaN         NaN   \n",
            "max                 NaN         NaN            NaN         NaN   \n",
            "\n",
            "       TechSupport_No internet service TechSupport_Yes  ...  \\\n",
            "count                              177             177  ...   \n",
            "unique                               1               2  ...   \n",
            "top                              False           False  ...   \n",
            "freq                               177             161  ...   \n",
            "mean                               NaN             NaN  ...   \n",
            "std                                NaN             NaN  ...   \n",
            "min                                NaN             NaN  ...   \n",
            "25%                                NaN             NaN  ...   \n",
            "50%                                NaN             NaN  ...   \n",
            "75%                                NaN             NaN  ...   \n",
            "max                                NaN             NaN  ...   \n",
            "\n",
            "       DeviceProtection_Yes StreamingTV_No internet service StreamingTV_Yes  \\\n",
            "count                   177                             177             177   \n",
            "unique                    2                               1               2   \n",
            "top                   False                           False           False   \n",
            "freq                    134                             177              95   \n",
            "mean                    NaN                             NaN             NaN   \n",
            "std                     NaN                             NaN             NaN   \n",
            "min                     NaN                             NaN             NaN   \n",
            "25%                     NaN                             NaN             NaN   \n",
            "50%                     NaN                             NaN             NaN   \n",
            "75%                     NaN                             NaN             NaN   \n",
            "max                     NaN                             NaN             NaN   \n",
            "\n",
            "       StreamingMovies_No internet service StreamingMovies_Yes  \\\n",
            "count                                  177                 177   \n",
            "unique                                   1                   2   \n",
            "top                                  False               False   \n",
            "freq                                   177                  99   \n",
            "mean                                   NaN                 NaN   \n",
            "std                                    NaN                 NaN   \n",
            "min                                    NaN                 NaN   \n",
            "25%                                    NaN                 NaN   \n",
            "50%                                    NaN                 NaN   \n",
            "75%                                    NaN                 NaN   \n",
            "max                                    NaN                 NaN   \n",
            "\n",
            "       Contract_One year Contract_Two year  \\\n",
            "count                177               177   \n",
            "unique                 1                 1   \n",
            "top                False             False   \n",
            "freq                 177               177   \n",
            "mean                 NaN               NaN   \n",
            "std                  NaN               NaN   \n",
            "min                  NaN               NaN   \n",
            "25%                  NaN               NaN   \n",
            "50%                  NaN               NaN   \n",
            "75%                  NaN               NaN   \n",
            "max                  NaN               NaN   \n",
            "\n",
            "       PaymentMethod_Credit card (automatic) PaymentMethod_Electronic check  \\\n",
            "count                                    177                            177   \n",
            "unique                                     2                              2   \n",
            "top                                    False                           True   \n",
            "freq                                     165                            127   \n",
            "mean                                     NaN                            NaN   \n",
            "std                                      NaN                            NaN   \n",
            "min                                      NaN                            NaN   \n",
            "25%                                      NaN                            NaN   \n",
            "50%                                      NaN                            NaN   \n",
            "75%                                      NaN                            NaN   \n",
            "max                                      NaN                            NaN   \n",
            "\n",
            "       PaymentMethod_Mailed check  \n",
            "count                         177  \n",
            "unique                          2  \n",
            "top                         False  \n",
            "freq                          153  \n",
            "mean                          NaN  \n",
            "std                           NaN  \n",
            "min                           NaN  \n",
            "25%                           NaN  \n",
            "50%                           NaN  \n",
            "75%                           NaN  \n",
            "max                           NaN  \n",
            "\n",
            "[11 rows x 29 columns]\n",
            "\n",
            "Low-probability churners characteristics:\n",
            "        SeniorCitizen       tenure  MonthlyCharges PaperlessBilling_Yes  \\\n",
            "count     1363.000000  1363.000000     1363.000000                 1363   \n",
            "unique            NaN          NaN             NaN                    2   \n",
            "top               NaN          NaN             NaN                 True   \n",
            "freq              NaN          NaN             NaN                  734   \n",
            "mean         0.102715    41.234043       59.558767                  NaN   \n",
            "std          0.303697    22.744710       31.089824                  NaN   \n",
            "min          0.000000     1.000000       18.700000                  NaN   \n",
            "25%          0.000000    21.000000       24.700000                  NaN   \n",
            "50%          0.000000    43.000000       60.350000                  NaN   \n",
            "75%          0.000000    63.000000       85.975000                  NaN   \n",
            "max          1.000000    72.000000      118.750000                  NaN   \n",
            "\n",
            "       PhoneService_Yes Partner_Yes Dependents_Yes gender_Male  \\\n",
            "count              1363        1363           1363        1363   \n",
            "unique                2           2              2           2   \n",
            "top                True        True          False       False   \n",
            "freq               1213         766            843         723   \n",
            "mean                NaN         NaN            NaN         NaN   \n",
            "std                 NaN         NaN            NaN         NaN   \n",
            "min                 NaN         NaN            NaN         NaN   \n",
            "25%                 NaN         NaN            NaN         NaN   \n",
            "50%                 NaN         NaN            NaN         NaN   \n",
            "75%                 NaN         NaN            NaN         NaN   \n",
            "max                 NaN         NaN            NaN         NaN   \n",
            "\n",
            "       TechSupport_No internet service TechSupport_Yes  ...  \\\n",
            "count                             1363            1363  ...   \n",
            "unique                               2               2  ...   \n",
            "top                              False           False  ...   \n",
            "freq                               969             878  ...   \n",
            "mean                               NaN             NaN  ...   \n",
            "std                                NaN             NaN  ...   \n",
            "min                                NaN             NaN  ...   \n",
            "25%                                NaN             NaN  ...   \n",
            "50%                                NaN             NaN  ...   \n",
            "75%                                NaN             NaN  ...   \n",
            "max                                NaN             NaN  ...   \n",
            "\n",
            "       DeviceProtection_Yes StreamingTV_No internet service StreamingTV_Yes  \\\n",
            "count                  1363                            1363            1363   \n",
            "unique                    2                               2               2   \n",
            "top                   False                           False           False   \n",
            "freq                    824                             969             848   \n",
            "mean                    NaN                             NaN             NaN   \n",
            "std                     NaN                             NaN             NaN   \n",
            "min                     NaN                             NaN             NaN   \n",
            "25%                     NaN                             NaN             NaN   \n",
            "50%                     NaN                             NaN             NaN   \n",
            "75%                     NaN                             NaN             NaN   \n",
            "max                     NaN                             NaN             NaN   \n",
            "\n",
            "       StreamingMovies_No internet service StreamingMovies_Yes  \\\n",
            "count                                 1363                1363   \n",
            "unique                                   2                   2   \n",
            "top                                  False               False   \n",
            "freq                                   969                 824   \n",
            "mean                                   NaN                 NaN   \n",
            "std                                    NaN                 NaN   \n",
            "min                                    NaN                 NaN   \n",
            "25%                                    NaN                 NaN   \n",
            "50%                                    NaN                 NaN   \n",
            "75%                                    NaN                 NaN   \n",
            "max                                    NaN                 NaN   \n",
            "\n",
            "       Contract_One year Contract_Two year  \\\n",
            "count               1363              1363   \n",
            "unique                 2                 2   \n",
            "top                False             False   \n",
            "freq                 983               872   \n",
            "mean                 NaN               NaN   \n",
            "std                  NaN               NaN   \n",
            "min                  NaN               NaN   \n",
            "25%                  NaN               NaN   \n",
            "50%                  NaN               NaN   \n",
            "75%                  NaN               NaN   \n",
            "max                  NaN               NaN   \n",
            "\n",
            "       PaymentMethod_Credit card (automatic) PaymentMethod_Electronic check  \\\n",
            "count                                   1363                           1363   \n",
            "unique                                     2                              2   \n",
            "top                                    False                          False   \n",
            "freq                                    1000                           1101   \n",
            "mean                                     NaN                            NaN   \n",
            "std                                      NaN                            NaN   \n",
            "min                                      NaN                            NaN   \n",
            "25%                                      NaN                            NaN   \n",
            "50%                                      NaN                            NaN   \n",
            "75%                                      NaN                            NaN   \n",
            "max                                      NaN                            NaN   \n",
            "\n",
            "       PaymentMethod_Mailed check  \n",
            "count                        1363  \n",
            "unique                          2  \n",
            "top                         False  \n",
            "freq                          988  \n",
            "mean                          NaN  \n",
            "std                           NaN  \n",
            "min                           NaN  \n",
            "25%                           NaN  \n",
            "50%                           NaN  \n",
            "75%                           NaN  \n",
            "max                           NaN  \n",
            "\n",
            "[11 rows x 29 columns]\n"
          ]
        }
      ],
      "source": [
        "\n",
        "y_pred_proba = tree_model.predict_proba(X_test)\n",
        "\n",
        "# Define thresholds for high and low probability churners\n",
        "high_threshold = 0.7\n",
        "low_threshold = 0.3\n",
        "\n",
        "# Classify customers\n",
        "high_prob_churners = X_test[y_pred_proba[:, 1] >= high_threshold]\n",
        "low_prob_churners = X_test[y_pred_proba[:, 1] <= low_threshold]\n",
        "\n",
        "\n",
        "# Analyze characteristics\n",
        "print(\"High-probability churners characteristics:\")\n",
        "print(high_prob_churners.describe(include='all'))\n",
        "\n",
        "print(\"\\nLow-probability churners characteristics:\")\n",
        "print(low_prob_churners.describe(include='all'))"
      ]
    },
    {
      "cell_type": "markdown",
      "metadata": {
        "id": "Q024QTlhbp3I"
      },
      "source": [
        "#LogisticRegression"
      ]
    },
    {
      "cell_type": "code",
      "execution_count": null,
      "metadata": {
        "colab": {
          "base_uri": "https://localhost:8080/",
          "height": 80
        },
        "id": "2I0lNBYaxV-h",
        "outputId": "2c877d55-653f-442f-ea3d-b16f1f13a331"
      },
      "outputs": [
        {
          "output_type": "execute_result",
          "data": {
            "text/plain": [
              "LogisticRegression(max_iter=1000)"
            ],
            "text/html": [
              "<style>#sk-container-id-1 {\n",
              "  /* Definition of color scheme common for light and dark mode */\n",
              "  --sklearn-color-text: black;\n",
              "  --sklearn-color-line: gray;\n",
              "  /* Definition of color scheme for unfitted estimators */\n",
              "  --sklearn-color-unfitted-level-0: #fff5e6;\n",
              "  --sklearn-color-unfitted-level-1: #f6e4d2;\n",
              "  --sklearn-color-unfitted-level-2: #ffe0b3;\n",
              "  --sklearn-color-unfitted-level-3: chocolate;\n",
              "  /* Definition of color scheme for fitted estimators */\n",
              "  --sklearn-color-fitted-level-0: #f0f8ff;\n",
              "  --sklearn-color-fitted-level-1: #d4ebff;\n",
              "  --sklearn-color-fitted-level-2: #b3dbfd;\n",
              "  --sklearn-color-fitted-level-3: cornflowerblue;\n",
              "\n",
              "  /* Specific color for light theme */\n",
              "  --sklearn-color-text-on-default-background: var(--sg-text-color, var(--theme-code-foreground, var(--jp-content-font-color1, black)));\n",
              "  --sklearn-color-background: var(--sg-background-color, var(--theme-background, var(--jp-layout-color0, white)));\n",
              "  --sklearn-color-border-box: var(--sg-text-color, var(--theme-code-foreground, var(--jp-content-font-color1, black)));\n",
              "  --sklearn-color-icon: #696969;\n",
              "\n",
              "  @media (prefers-color-scheme: dark) {\n",
              "    /* Redefinition of color scheme for dark theme */\n",
              "    --sklearn-color-text-on-default-background: var(--sg-text-color, var(--theme-code-foreground, var(--jp-content-font-color1, white)));\n",
              "    --sklearn-color-background: var(--sg-background-color, var(--theme-background, var(--jp-layout-color0, #111)));\n",
              "    --sklearn-color-border-box: var(--sg-text-color, var(--theme-code-foreground, var(--jp-content-font-color1, white)));\n",
              "    --sklearn-color-icon: #878787;\n",
              "  }\n",
              "}\n",
              "\n",
              "#sk-container-id-1 {\n",
              "  color: var(--sklearn-color-text);\n",
              "}\n",
              "\n",
              "#sk-container-id-1 pre {\n",
              "  padding: 0;\n",
              "}\n",
              "\n",
              "#sk-container-id-1 input.sk-hidden--visually {\n",
              "  border: 0;\n",
              "  clip: rect(1px 1px 1px 1px);\n",
              "  clip: rect(1px, 1px, 1px, 1px);\n",
              "  height: 1px;\n",
              "  margin: -1px;\n",
              "  overflow: hidden;\n",
              "  padding: 0;\n",
              "  position: absolute;\n",
              "  width: 1px;\n",
              "}\n",
              "\n",
              "#sk-container-id-1 div.sk-dashed-wrapped {\n",
              "  border: 1px dashed var(--sklearn-color-line);\n",
              "  margin: 0 0.4em 0.5em 0.4em;\n",
              "  box-sizing: border-box;\n",
              "  padding-bottom: 0.4em;\n",
              "  background-color: var(--sklearn-color-background);\n",
              "}\n",
              "\n",
              "#sk-container-id-1 div.sk-container {\n",
              "  /* jupyter's `normalize.less` sets `[hidden] { display: none; }`\n",
              "     but bootstrap.min.css set `[hidden] { display: none !important; }`\n",
              "     so we also need the `!important` here to be able to override the\n",
              "     default hidden behavior on the sphinx rendered scikit-learn.org.\n",
              "     See: https://github.com/scikit-learn/scikit-learn/issues/21755 */\n",
              "  display: inline-block !important;\n",
              "  position: relative;\n",
              "}\n",
              "\n",
              "#sk-container-id-1 div.sk-text-repr-fallback {\n",
              "  display: none;\n",
              "}\n",
              "\n",
              "div.sk-parallel-item,\n",
              "div.sk-serial,\n",
              "div.sk-item {\n",
              "  /* draw centered vertical line to link estimators */\n",
              "  background-image: linear-gradient(var(--sklearn-color-text-on-default-background), var(--sklearn-color-text-on-default-background));\n",
              "  background-size: 2px 100%;\n",
              "  background-repeat: no-repeat;\n",
              "  background-position: center center;\n",
              "}\n",
              "\n",
              "/* Parallel-specific style estimator block */\n",
              "\n",
              "#sk-container-id-1 div.sk-parallel-item::after {\n",
              "  content: \"\";\n",
              "  width: 100%;\n",
              "  border-bottom: 2px solid var(--sklearn-color-text-on-default-background);\n",
              "  flex-grow: 1;\n",
              "}\n",
              "\n",
              "#sk-container-id-1 div.sk-parallel {\n",
              "  display: flex;\n",
              "  align-items: stretch;\n",
              "  justify-content: center;\n",
              "  background-color: var(--sklearn-color-background);\n",
              "  position: relative;\n",
              "}\n",
              "\n",
              "#sk-container-id-1 div.sk-parallel-item {\n",
              "  display: flex;\n",
              "  flex-direction: column;\n",
              "}\n",
              "\n",
              "#sk-container-id-1 div.sk-parallel-item:first-child::after {\n",
              "  align-self: flex-end;\n",
              "  width: 50%;\n",
              "}\n",
              "\n",
              "#sk-container-id-1 div.sk-parallel-item:last-child::after {\n",
              "  align-self: flex-start;\n",
              "  width: 50%;\n",
              "}\n",
              "\n",
              "#sk-container-id-1 div.sk-parallel-item:only-child::after {\n",
              "  width: 0;\n",
              "}\n",
              "\n",
              "/* Serial-specific style estimator block */\n",
              "\n",
              "#sk-container-id-1 div.sk-serial {\n",
              "  display: flex;\n",
              "  flex-direction: column;\n",
              "  align-items: center;\n",
              "  background-color: var(--sklearn-color-background);\n",
              "  padding-right: 1em;\n",
              "  padding-left: 1em;\n",
              "}\n",
              "\n",
              "\n",
              "/* Toggleable style: style used for estimator/Pipeline/ColumnTransformer box that is\n",
              "clickable and can be expanded/collapsed.\n",
              "- Pipeline and ColumnTransformer use this feature and define the default style\n",
              "- Estimators will overwrite some part of the style using the `sk-estimator` class\n",
              "*/\n",
              "\n",
              "/* Pipeline and ColumnTransformer style (default) */\n",
              "\n",
              "#sk-container-id-1 div.sk-toggleable {\n",
              "  /* Default theme specific background. It is overwritten whether we have a\n",
              "  specific estimator or a Pipeline/ColumnTransformer */\n",
              "  background-color: var(--sklearn-color-background);\n",
              "}\n",
              "\n",
              "/* Toggleable label */\n",
              "#sk-container-id-1 label.sk-toggleable__label {\n",
              "  cursor: pointer;\n",
              "  display: block;\n",
              "  width: 100%;\n",
              "  margin-bottom: 0;\n",
              "  padding: 0.5em;\n",
              "  box-sizing: border-box;\n",
              "  text-align: center;\n",
              "}\n",
              "\n",
              "#sk-container-id-1 label.sk-toggleable__label-arrow:before {\n",
              "  /* Arrow on the left of the label */\n",
              "  content: \"▸\";\n",
              "  float: left;\n",
              "  margin-right: 0.25em;\n",
              "  color: var(--sklearn-color-icon);\n",
              "}\n",
              "\n",
              "#sk-container-id-1 label.sk-toggleable__label-arrow:hover:before {\n",
              "  color: var(--sklearn-color-text);\n",
              "}\n",
              "\n",
              "/* Toggleable content - dropdown */\n",
              "\n",
              "#sk-container-id-1 div.sk-toggleable__content {\n",
              "  max-height: 0;\n",
              "  max-width: 0;\n",
              "  overflow: hidden;\n",
              "  text-align: left;\n",
              "  /* unfitted */\n",
              "  background-color: var(--sklearn-color-unfitted-level-0);\n",
              "}\n",
              "\n",
              "#sk-container-id-1 div.sk-toggleable__content.fitted {\n",
              "  /* fitted */\n",
              "  background-color: var(--sklearn-color-fitted-level-0);\n",
              "}\n",
              "\n",
              "#sk-container-id-1 div.sk-toggleable__content pre {\n",
              "  margin: 0.2em;\n",
              "  border-radius: 0.25em;\n",
              "  color: var(--sklearn-color-text);\n",
              "  /* unfitted */\n",
              "  background-color: var(--sklearn-color-unfitted-level-0);\n",
              "}\n",
              "\n",
              "#sk-container-id-1 div.sk-toggleable__content.fitted pre {\n",
              "  /* unfitted */\n",
              "  background-color: var(--sklearn-color-fitted-level-0);\n",
              "}\n",
              "\n",
              "#sk-container-id-1 input.sk-toggleable__control:checked~div.sk-toggleable__content {\n",
              "  /* Expand drop-down */\n",
              "  max-height: 200px;\n",
              "  max-width: 100%;\n",
              "  overflow: auto;\n",
              "}\n",
              "\n",
              "#sk-container-id-1 input.sk-toggleable__control:checked~label.sk-toggleable__label-arrow:before {\n",
              "  content: \"▾\";\n",
              "}\n",
              "\n",
              "/* Pipeline/ColumnTransformer-specific style */\n",
              "\n",
              "#sk-container-id-1 div.sk-label input.sk-toggleable__control:checked~label.sk-toggleable__label {\n",
              "  color: var(--sklearn-color-text);\n",
              "  background-color: var(--sklearn-color-unfitted-level-2);\n",
              "}\n",
              "\n",
              "#sk-container-id-1 div.sk-label.fitted input.sk-toggleable__control:checked~label.sk-toggleable__label {\n",
              "  background-color: var(--sklearn-color-fitted-level-2);\n",
              "}\n",
              "\n",
              "/* Estimator-specific style */\n",
              "\n",
              "/* Colorize estimator box */\n",
              "#sk-container-id-1 div.sk-estimator input.sk-toggleable__control:checked~label.sk-toggleable__label {\n",
              "  /* unfitted */\n",
              "  background-color: var(--sklearn-color-unfitted-level-2);\n",
              "}\n",
              "\n",
              "#sk-container-id-1 div.sk-estimator.fitted input.sk-toggleable__control:checked~label.sk-toggleable__label {\n",
              "  /* fitted */\n",
              "  background-color: var(--sklearn-color-fitted-level-2);\n",
              "}\n",
              "\n",
              "#sk-container-id-1 div.sk-label label.sk-toggleable__label,\n",
              "#sk-container-id-1 div.sk-label label {\n",
              "  /* The background is the default theme color */\n",
              "  color: var(--sklearn-color-text-on-default-background);\n",
              "}\n",
              "\n",
              "/* On hover, darken the color of the background */\n",
              "#sk-container-id-1 div.sk-label:hover label.sk-toggleable__label {\n",
              "  color: var(--sklearn-color-text);\n",
              "  background-color: var(--sklearn-color-unfitted-level-2);\n",
              "}\n",
              "\n",
              "/* Label box, darken color on hover, fitted */\n",
              "#sk-container-id-1 div.sk-label.fitted:hover label.sk-toggleable__label.fitted {\n",
              "  color: var(--sklearn-color-text);\n",
              "  background-color: var(--sklearn-color-fitted-level-2);\n",
              "}\n",
              "\n",
              "/* Estimator label */\n",
              "\n",
              "#sk-container-id-1 div.sk-label label {\n",
              "  font-family: monospace;\n",
              "  font-weight: bold;\n",
              "  display: inline-block;\n",
              "  line-height: 1.2em;\n",
              "}\n",
              "\n",
              "#sk-container-id-1 div.sk-label-container {\n",
              "  text-align: center;\n",
              "}\n",
              "\n",
              "/* Estimator-specific */\n",
              "#sk-container-id-1 div.sk-estimator {\n",
              "  font-family: monospace;\n",
              "  border: 1px dotted var(--sklearn-color-border-box);\n",
              "  border-radius: 0.25em;\n",
              "  box-sizing: border-box;\n",
              "  margin-bottom: 0.5em;\n",
              "  /* unfitted */\n",
              "  background-color: var(--sklearn-color-unfitted-level-0);\n",
              "}\n",
              "\n",
              "#sk-container-id-1 div.sk-estimator.fitted {\n",
              "  /* fitted */\n",
              "  background-color: var(--sklearn-color-fitted-level-0);\n",
              "}\n",
              "\n",
              "/* on hover */\n",
              "#sk-container-id-1 div.sk-estimator:hover {\n",
              "  /* unfitted */\n",
              "  background-color: var(--sklearn-color-unfitted-level-2);\n",
              "}\n",
              "\n",
              "#sk-container-id-1 div.sk-estimator.fitted:hover {\n",
              "  /* fitted */\n",
              "  background-color: var(--sklearn-color-fitted-level-2);\n",
              "}\n",
              "\n",
              "/* Specification for estimator info (e.g. \"i\" and \"?\") */\n",
              "\n",
              "/* Common style for \"i\" and \"?\" */\n",
              "\n",
              ".sk-estimator-doc-link,\n",
              "a:link.sk-estimator-doc-link,\n",
              "a:visited.sk-estimator-doc-link {\n",
              "  float: right;\n",
              "  font-size: smaller;\n",
              "  line-height: 1em;\n",
              "  font-family: monospace;\n",
              "  background-color: var(--sklearn-color-background);\n",
              "  border-radius: 1em;\n",
              "  height: 1em;\n",
              "  width: 1em;\n",
              "  text-decoration: none !important;\n",
              "  margin-left: 1ex;\n",
              "  /* unfitted */\n",
              "  border: var(--sklearn-color-unfitted-level-1) 1pt solid;\n",
              "  color: var(--sklearn-color-unfitted-level-1);\n",
              "}\n",
              "\n",
              ".sk-estimator-doc-link.fitted,\n",
              "a:link.sk-estimator-doc-link.fitted,\n",
              "a:visited.sk-estimator-doc-link.fitted {\n",
              "  /* fitted */\n",
              "  border: var(--sklearn-color-fitted-level-1) 1pt solid;\n",
              "  color: var(--sklearn-color-fitted-level-1);\n",
              "}\n",
              "\n",
              "/* On hover */\n",
              "div.sk-estimator:hover .sk-estimator-doc-link:hover,\n",
              ".sk-estimator-doc-link:hover,\n",
              "div.sk-label-container:hover .sk-estimator-doc-link:hover,\n",
              ".sk-estimator-doc-link:hover {\n",
              "  /* unfitted */\n",
              "  background-color: var(--sklearn-color-unfitted-level-3);\n",
              "  color: var(--sklearn-color-background);\n",
              "  text-decoration: none;\n",
              "}\n",
              "\n",
              "div.sk-estimator.fitted:hover .sk-estimator-doc-link.fitted:hover,\n",
              ".sk-estimator-doc-link.fitted:hover,\n",
              "div.sk-label-container:hover .sk-estimator-doc-link.fitted:hover,\n",
              ".sk-estimator-doc-link.fitted:hover {\n",
              "  /* fitted */\n",
              "  background-color: var(--sklearn-color-fitted-level-3);\n",
              "  color: var(--sklearn-color-background);\n",
              "  text-decoration: none;\n",
              "}\n",
              "\n",
              "/* Span, style for the box shown on hovering the info icon */\n",
              ".sk-estimator-doc-link span {\n",
              "  display: none;\n",
              "  z-index: 9999;\n",
              "  position: relative;\n",
              "  font-weight: normal;\n",
              "  right: .2ex;\n",
              "  padding: .5ex;\n",
              "  margin: .5ex;\n",
              "  width: min-content;\n",
              "  min-width: 20ex;\n",
              "  max-width: 50ex;\n",
              "  color: var(--sklearn-color-text);\n",
              "  box-shadow: 2pt 2pt 4pt #999;\n",
              "  /* unfitted */\n",
              "  background: var(--sklearn-color-unfitted-level-0);\n",
              "  border: .5pt solid var(--sklearn-color-unfitted-level-3);\n",
              "}\n",
              "\n",
              ".sk-estimator-doc-link.fitted span {\n",
              "  /* fitted */\n",
              "  background: var(--sklearn-color-fitted-level-0);\n",
              "  border: var(--sklearn-color-fitted-level-3);\n",
              "}\n",
              "\n",
              ".sk-estimator-doc-link:hover span {\n",
              "  display: block;\n",
              "}\n",
              "\n",
              "/* \"?\"-specific style due to the `<a>` HTML tag */\n",
              "\n",
              "#sk-container-id-1 a.estimator_doc_link {\n",
              "  float: right;\n",
              "  font-size: 1rem;\n",
              "  line-height: 1em;\n",
              "  font-family: monospace;\n",
              "  background-color: var(--sklearn-color-background);\n",
              "  border-radius: 1rem;\n",
              "  height: 1rem;\n",
              "  width: 1rem;\n",
              "  text-decoration: none;\n",
              "  /* unfitted */\n",
              "  color: var(--sklearn-color-unfitted-level-1);\n",
              "  border: var(--sklearn-color-unfitted-level-1) 1pt solid;\n",
              "}\n",
              "\n",
              "#sk-container-id-1 a.estimator_doc_link.fitted {\n",
              "  /* fitted */\n",
              "  border: var(--sklearn-color-fitted-level-1) 1pt solid;\n",
              "  color: var(--sklearn-color-fitted-level-1);\n",
              "}\n",
              "\n",
              "/* On hover */\n",
              "#sk-container-id-1 a.estimator_doc_link:hover {\n",
              "  /* unfitted */\n",
              "  background-color: var(--sklearn-color-unfitted-level-3);\n",
              "  color: var(--sklearn-color-background);\n",
              "  text-decoration: none;\n",
              "}\n",
              "\n",
              "#sk-container-id-1 a.estimator_doc_link.fitted:hover {\n",
              "  /* fitted */\n",
              "  background-color: var(--sklearn-color-fitted-level-3);\n",
              "}\n",
              "</style><div id=\"sk-container-id-1\" class=\"sk-top-container\"><div class=\"sk-text-repr-fallback\"><pre>LogisticRegression(max_iter=1000)</pre><b>In a Jupyter environment, please rerun this cell to show the HTML representation or trust the notebook. <br />On GitHub, the HTML representation is unable to render, please try loading this page with nbviewer.org.</b></div><div class=\"sk-container\" hidden><div class=\"sk-item\"><div class=\"sk-estimator fitted sk-toggleable\"><input class=\"sk-toggleable__control sk-hidden--visually\" id=\"sk-estimator-id-1\" type=\"checkbox\" checked><label for=\"sk-estimator-id-1\" class=\"sk-toggleable__label fitted sk-toggleable__label-arrow fitted\">&nbsp;&nbsp;LogisticRegression<a class=\"sk-estimator-doc-link fitted\" rel=\"noreferrer\" target=\"_blank\" href=\"https://scikit-learn.org/1.5/modules/generated/sklearn.linear_model.LogisticRegression.html\">?<span>Documentation for LogisticRegression</span></a><span class=\"sk-estimator-doc-link fitted\">i<span>Fitted</span></span></label><div class=\"sk-toggleable__content fitted\"><pre>LogisticRegression(max_iter=1000)</pre></div> </div></div></div></div>"
            ]
          },
          "metadata": {},
          "execution_count": 7
        }
      ],
      "source": [
        "scaler = StandardScaler()\n",
        "X_train_scaled = scaler.fit_transform(X_train)\n",
        "X_test_scaled = scaler.transform(X_test)\n",
        "\n",
        "model = LogisticRegression(max_iter=1000)\n",
        "model.fit(X_train_scaled, y_train)"
      ]
    },
    {
      "cell_type": "code",
      "execution_count": null,
      "metadata": {
        "colab": {
          "base_uri": "https://localhost:8080/"
        },
        "id": "XRpAGpnJc18u",
        "outputId": "dd224bfc-4583-4ca0-c08b-b0e8ebeef5c2"
      },
      "outputs": [
        {
          "name": "stdout",
          "output_type": "stream",
          "text": [
            "Cross-Validation Scores: [0.78977273 0.8125     0.80085349 0.82219061 0.77809388 0.79231863\n",
            " 0.80654339 0.80512091 0.79516358 0.80085349]\n",
            "Mean Accuracy: 0.8003410707358076\n"
          ]
        }
      ],
      "source": [
        "scores = cross_val_score(model, X, y, cv=10)\n",
        "print(\"Cross-Validation Scores:\", scores)\n",
        "print(\"Mean Accuracy:\", scores.mean())\n",
        "# something appear but it seems normal"
      ]
    },
    {
      "cell_type": "code",
      "execution_count": null,
      "metadata": {
        "id": "On36lEX1yjNt"
      },
      "outputs": [],
      "source": [
        "y_pred = model.predict(X_test_scaled)\n",
        "y_probs = model.predict_proba(X_test_scaled)[:, 1]"
      ]
    },
    {
      "cell_type": "code",
      "execution_count": null,
      "metadata": {
        "id": "qJz_daPW1JZM"
      },
      "outputs": [],
      "source": [
        "custom_threshold = 0.5  # Set your desired threshold\n",
        "y_pred_custom = (y_probs >= custom_threshold).astype(int)"
      ]
    },
    {
      "cell_type": "code",
      "execution_count": null,
      "metadata": {
        "colab": {
          "base_uri": "https://localhost:8080/"
        },
        "id": "PMcSb7if0SV5",
        "outputId": "09290a4a-0313-4bcc-ee8a-d9361cfc4a50"
      },
      "outputs": [
        {
          "name": "stdout",
          "output_type": "stream",
          "text": [
            "Confusion Matrix:\n",
            " [[1387  165]\n",
            " [ 238  320]]\n",
            "Classification Report:\n",
            "               precision    recall  f1-score   support\n",
            "\n",
            "       False       0.85      0.89      0.87      1552\n",
            "        True       0.66      0.57      0.61       558\n",
            "\n",
            "    accuracy                           0.81      2110\n",
            "   macro avg       0.76      0.73      0.74      2110\n",
            "weighted avg       0.80      0.81      0.80      2110\n",
            "\n"
          ]
        }
      ],
      "source": [
        "cm = confusion_matrix(y_test, y_pred)\n",
        "print(\"Confusion Matrix:\\n\", cm)\n",
        "\n",
        "cr = classification_report(y_test, y_pred)\n",
        "print(\"Classification Report:\\n\", cr)"
      ]
    },
    {
      "cell_type": "code",
      "execution_count": null,
      "metadata": {
        "colab": {
          "base_uri": "https://localhost:8080/",
          "height": 489
        },
        "id": "dzqYJs7Jyd2B",
        "outputId": "9ec097a9-d0d0-437e-affa-d00af65a3405"
      },
      "outputs": [
        {
          "name": "stdout",
          "output_type": "stream",
          "text": [
            "AUC: 0.843937063518457\n"
          ]
        },
        {
          "data": {
            "image/png": "[encoded data removed]",
            "text/plain": [
              "<Figure size 640x480 with 1 Axes>"
            ]
          },
          "metadata": {},
          "output_type": "display_data"
        }
      ],
      "source": [
        "auc = roc_auc_score(y_test, y_probs)\n",
        "print(f\"AUC: {auc}\")\n",
        "\n",
        "\n",
        "fpr, tpr, _ = roc_curve(y_test, y_probs)\n",
        "plt.plot(fpr, tpr, label=f'AUC = {auc:.2f}')\n",
        "plt.xlabel('False Positive Rate')\n",
        "plt.ylabel('True Positive Rate')\n",
        "plt.title('ROC Curve')\n",
        "plt.legend(loc='best')\n",
        "plt.show()"
      ]
    },
    {
      "cell_type": "markdown",
      "metadata": {
        "id": "-EiBZwR86Sx_"
      },
      "source": [
        "#lasso\n"
      ]
    },
    {
      "cell_type": "code",
      "execution_count": null,
      "metadata": {
        "id": "unn8Kdz-6WIg"
      },
      "outputs": [],
      "source": [
        "from sklearn.linear_model import Lasso\n",
        "from sklearn.metrics import mean_absolute_error, r2_score\n",
        "from sklearn.metrics import accuracy_score"
      ]
    },
    {
      "cell_type": "code",
      "execution_count": null,
      "metadata": {
        "colab": {
          "base_uri": "https://localhost:8080/"
        },
        "id": "19Q4aw2mqXAQ",
        "outputId": "59cc19ab-4841-43b6-94ea-2120509624ec"
      },
      "outputs": [
        {
          "name": "stdout",
          "output_type": "stream",
          "text": [
            "      SeniorCitizen  tenure  MonthlyCharges  PaperlessBilling_Yes  \\\n",
            "1643              1      60           80.95                  True   \n",
            "2767              0      67           74.00                 False   \n",
            "6278              0      26           83.95                  True   \n",
            "512               0      56          105.45                  True   \n",
            "5105              0      71          113.65                 False   \n",
            "...             ...     ...             ...                   ...   \n",
            "2170              0      30           85.15                 False   \n",
            "759               0      22           89.25                 False   \n",
            "2923              0      68           95.10                 False   \n",
            "6523              1      18           20.35                 False   \n",
            "1235              0       3           58.70                  True   \n",
            "\n",
            "      PhoneService_Yes  Partner_Yes  Dependents_Yes  gender_Male  \\\n",
            "1643              True         True            True         True   \n",
            "2767              True         True            True        False   \n",
            "6278              True        False           False         True   \n",
            "512               True        False           False        False   \n",
            "5105              True         True            True        False   \n",
            "...                ...          ...             ...          ...   \n",
            "2170              True        False           False        False   \n",
            "759               True        False           False        False   \n",
            "2923              True         True            True         True   \n",
            "6523              True        False           False        False   \n",
            "1235              True         True            True        False   \n",
            "\n",
            "      TechSupport_No internet service  TechSupport_Yes  ...  \\\n",
            "1643                            False            False  ...   \n",
            "2767                            False             True  ...   \n",
            "6278                            False            False  ...   \n",
            "512                             False             True  ...   \n",
            "5105                            False             True  ...   \n",
            "...                               ...              ...  ...   \n",
            "2170                            False             True  ...   \n",
            "759                             False            False  ...   \n",
            "2923                            False             True  ...   \n",
            "6523                             True            False  ...   \n",
            "1235                            False            False  ...   \n",
            "\n",
            "      DeviceProtection_Yes  StreamingTV_No internet service  StreamingTV_Yes  \\\n",
            "1643                 False                            False            False   \n",
            "2767                 False                            False             True   \n",
            "6278                 False                            False            False   \n",
            "512                  False                            False             True   \n",
            "5105                  True                            False             True   \n",
            "...                    ...                              ...              ...   \n",
            "2170                 False                            False             True   \n",
            "759                  False                            False             True   \n",
            "2923                 False                            False            False   \n",
            "6523                 False                             True            False   \n",
            "1235                 False                            False             True   \n",
            "\n",
            "      StreamingMovies_No internet service  StreamingMovies_Yes  \\\n",
            "1643                                False                False   \n",
            "2767                                False                False   \n",
            "6278                                False                 True   \n",
            "512                                 False                 True   \n",
            "5105                                False                 True   \n",
            "...                                   ...                  ...   \n",
            "2170                                False                False   \n",
            "759                                 False                 True   \n",
            "2923                                False                 True   \n",
            "6523                                 True                False   \n",
            "1235                                False                False   \n",
            "\n",
            "      Contract_One year  Contract_Two year  \\\n",
            "1643              False              False   \n",
            "2767              False               True   \n",
            "6278              False              False   \n",
            "512               False              False   \n",
            "5105              False               True   \n",
            "...                 ...                ...   \n",
            "2170              False              False   \n",
            "759               False              False   \n",
            "2923              False               True   \n",
            "6523               True              False   \n",
            "1235              False              False   \n",
            "\n",
            "      PaymentMethod_Credit card (automatic)  PaymentMethod_Electronic check  \\\n",
            "1643                                  False                            True   \n",
            "2767                                   True                           False   \n",
            "6278                                  False                            True   \n",
            "512                                   False                           False   \n",
            "5105                                   True                           False   \n",
            "...                                     ...                             ...   \n",
            "2170                                  False                            True   \n",
            "759                                   False                            True   \n",
            "2923                                  False                           False   \n",
            "6523                                  False                           False   \n",
            "1235                                   True                           False   \n",
            "\n",
            "      PaymentMethod_Mailed check  \n",
            "1643                       False  \n",
            "2767                       False  \n",
            "6278                       False  \n",
            "512                        False  \n",
            "5105                       False  \n",
            "...                          ...  \n",
            "2170                       False  \n",
            "759                        False  \n",
            "2923                       False  \n",
            "6523                       False  \n",
            "1235                       False  \n",
            "\n",
            "[4922 rows x 29 columns]\n"
          ]
        }
      ],
      "source": [
        "print(X_train)"
      ]
    },
    {
      "cell_type": "code",
      "execution_count": null,
      "metadata": {
        "colab": {
          "background_save": true
        },
        "id": "s3a0FjR2oA0W",
        "outputId": "2773cbd1-ad98-433b-858e-4a304f5ad501"
      },
      "outputs": [
        {
          "name": "stdout",
          "output_type": "stream",
          "text": [
            "Best C: 0.050118723362727505\n",
            "Best model: LogisticRegression(C=0.050118723362727505, penalty='l1', solver='liblinear')\n"
          ]
        }
      ],
      "source": [
        "\n",
        "param_grid = {\"C\": [10**i for i in np.arange(-4, 0, 0.1)]}\n",
        "\n",
        "# Initialize the Logistic Regression model with L1 penalty\n",
        "lasso_log_reg = LogisticRegression(penalty='l1', solver='liblinear')\n",
        "\n",
        "# Set up the GridSearchCV\n",
        "grid_search = GridSearchCV(estimator=lasso_log_reg, param_grid=param_grid, cv=10, scoring='accuracy')\n",
        "\n",
        "# Fit the GridSearchCV to your data\n",
        "grid_search.fit(X, y)\n",
        "\n",
        "# Retrieve the best parameters and model\n",
        "best_C = grid_search.best_params_['C']\n",
        "best_model = grid_search.best_estimator_\n",
        "\n",
        "print(f\"Best C: {best_C}\")\n",
        "print(f\"Best model: {best_model}\")\n"
      ]
    },
    {
      "cell_type": "code",
      "execution_count": null,
      "metadata": {
        "colab": {
          "background_save": true
        },
        "id": "M2nrE2jY6T_t",
        "outputId": "dd5aa3fb-280a-4984-d8a9-c552b77e97e6"
      },
      "outputs": [
        {
          "name": "stdout",
          "output_type": "stream",
          "text": [
            "Confusion Matrix:\n",
            " [[1397  155]\n",
            " [ 251  307]]\n",
            "Classification Report:\n",
            "               precision    recall  f1-score   support\n",
            "\n",
            "       False       0.85      0.90      0.87      1552\n",
            "        True       0.66      0.55      0.60       558\n",
            "\n",
            "    accuracy                           0.81      2110\n",
            "   macro avg       0.76      0.73      0.74      2110\n",
            "weighted avg       0.80      0.81      0.80      2110\n",
            "\n"
          ]
        }
      ],
      "source": [
        "\n",
        "\n",
        "# Predict on the test set\n",
        "lasso_log_reg = LogisticRegression(penalty='l1', solver='liblinear', C=0.050118723362727505)\n",
        "lasso_log_reg.fit(X_train_scaled, y_train)\n",
        "lasso_y_pred = lasso_log_reg.predict(X_test_scaled)\n",
        "\n",
        "\n",
        "y_pred = lasso_log_reg.predict(X_test_scaled)\n",
        "\n",
        "\n",
        "cm = confusion_matrix(y_test, y_pred)\n",
        "print(\"Confusion Matrix:\\n\", cm)\n",
        "\n",
        "\n",
        "cr = classification_report(y_test, y_pred)\n",
        "print(\"Classification Report:\\n\", cr)\n",
        "\n",
        "\n",
        "\n"
      ]
    },
    {
      "cell_type": "code",
      "execution_count": null,
      "metadata": {
        "colab": {
          "background_save": true
        },
        "id": "-Y7uVcTf61k_",
        "outputId": "81f770e6-1047-464b-b6bc-032a5df637b8"
      },
      "outputs": [
        {
          "data": {
            "image/png": "[encoded data removed]",
            "text/plain": [
              "<Figure size 640x480 with 1 Axes>"
            ]
          },
          "metadata": {},
          "output_type": "display_data"
        }
      ],
      "source": [
        "lasso_probabilities = lasso_log_reg.predict_proba(X_test_scaled)[:, 1]\n",
        "# Plot ROC Curve\n",
        "fpr, tpr, _ = roc_curve(y_test, lasso_probabilities)\n",
        "plt.plot(fpr, tpr, label=f'AUC = {auc:.2f}')\n",
        "plt.xlabel('False Positive Rate')\n",
        "plt.ylabel('True Positive Rate')\n",
        "plt.title('ROC Curve')\n",
        "plt.legend(loc='best')\n",
        "plt.show()"
      ]
    },
    {
      "cell_type": "code",
      "execution_count": null,
      "metadata": {
        "colab": {
          "background_save": true
        },
        "id": "GMaBx-KRe75q",
        "outputId": "66438dc1-a10d-494a-fd5f-0a20f138aa82"
      },
      "outputs": [
        {
          "name": "stdout",
          "output_type": "stream",
          "text": [
            "Top features from Logistic Regression (Lasso):\n",
            "                             Feature  Coefficient  Absolute Coefficient\n",
            "1                             tenure    -0.813585              0.813585\n",
            "25                 Contract_Two year    -0.480696              0.480696\n",
            "12       InternetService_Fiber optic     0.430273              0.430273\n",
            "24                 Contract_One year    -0.242672              0.242672\n",
            "15                OnlineSecurity_Yes    -0.177453              0.177453\n",
            "16  OnlineBackup_No internet service    -0.152846              0.152846\n",
            "3               PaperlessBilling_Yes     0.132466              0.132466\n",
            "27    PaymentMethod_Electronic check     0.113969              0.113969\n",
            "9                    TechSupport_Yes    -0.112674              0.112674\n",
            "23               StreamingMovies_Yes     0.106173              0.106173\n"
          ]
        }
      ],
      "source": [
        "coefficients = lasso_log_reg.coef_[0]\n",
        "feature_importances = pd.DataFrame({\n",
        "    'Feature': X_train.columns,\n",
        "    'Coefficient': coefficients\n",
        "})\n",
        "\n",
        "feature_importances['Absolute Coefficient'] = np.abs(feature_importances['Coefficient'])\n",
        "feature_importances = feature_importances.sort_values(by='Absolute Coefficient', ascending=False)\n",
        "print(\"Top features from Logistic Regression (Lasso):\")\n",
        "print(feature_importances.head(10))"
      ]
    },
    {
      "cell_type": "code",
      "execution_count": null,
      "metadata": {
        "colab": {
          "background_save": true
        },
        "id": "UN5gEQpAdceK",
        "outputId": "841779cd-116d-4529-ed49-f1b3cc84a770"
      },
      "outputs": [
        {
          "name": "stdout",
          "output_type": "stream",
          "text": [
            "Most important features:\n",
            "                                  feature  importance\n",
            "1                                  tenure    0.513000\n",
            "12            InternetService_Fiber optic    0.292319\n",
            "2                          MonthlyCharges    0.075693\n",
            "24                      Contract_One year    0.024298\n",
            "25                      Contract_Two year    0.016779\n",
            "8         TechSupport_No internet service    0.015631\n",
            "27         PaymentMethod_Electronic check    0.014866\n",
            "0                           SeniorCitizen    0.011405\n",
            "3                    PaperlessBilling_Yes    0.010975\n",
            "15                     OnlineSecurity_Yes    0.007664\n",
            "4                        PhoneService_Yes    0.006861\n",
            "17                       OnlineBackup_Yes    0.004922\n",
            "7                             gender_Male    0.002459\n",
            "11                      MultipleLines_Yes    0.001679\n",
            "9                         TechSupport_Yes    0.001448\n",
            "20        StreamingTV_No internet service    0.000000\n",
            "26  PaymentMethod_Credit card (automatic)    0.000000\n",
            "23                    StreamingMovies_Yes    0.000000\n",
            "22    StreamingMovies_No internet service    0.000000\n",
            "21                        StreamingTV_Yes    0.000000\n",
            "14     OnlineSecurity_No internet service    0.000000\n",
            "19                   DeviceProtection_Yes    0.000000\n",
            "18   DeviceProtection_No internet service    0.000000\n",
            "16       OnlineBackup_No internet service    0.000000\n",
            "13                     InternetService_No    0.000000\n",
            "10         MultipleLines_No phone service    0.000000\n",
            "6                          Dependents_Yes    0.000000\n",
            "5                             Partner_Yes    0.000000\n",
            "28             PaymentMethod_Mailed check    0.000000\n"
          ]
        }
      ],
      "source": [
        "# Get feature importances\n",
        "importances = pd.DataFrame({\n",
        "    'feature': X_train.columns,\n",
        "    'importance': tree_model.feature_importances_\n",
        "})\n",
        "importances = importances.sort_values('importance', ascending=False)\n",
        "\n",
        "# Print top 5-10 most important features\n",
        "print(\"Most important features:\")\n",
        "print(importances)"
      ]
    },
    {
      "cell_type": "markdown",
      "metadata": {
        "id": "xReSRj8w6SmX"
      },
      "source": [
        "# Task 2"
      ]
    },
    {
      "cell_type": "code",
      "execution_count": null,
      "metadata": {
        "colab": {
          "background_save": true
        },
        "id": "eBjERy4TFCGQ"
      },
      "outputs": [],
      "source": []
    },
    {
      "cell_type": "code",
      "execution_count": null,
      "metadata": {
        "colab": {
          "base_uri": "https://localhost:8080/"
        },
        "id": "XyTN06MME-Oq",
        "outputId": "01c3fc51-8ba9-4440-f395-8b730b13a8af"
      },
      "outputs": [
        {
          "output_type": "stream",
          "name": "stdout",
          "text": [
            "[[1381  171]\n",
            " [ 263  295]]\n",
            "cost of tree : 197138.80000000002\n",
            "[[1397  155]\n",
            " [ 251  307]]\n",
            "cost of lasso 185011.19999999998\n"
          ]
        }
      ],
      "source": [
        "#calculating the cost\n",
        "tree_model = DecisionTreeClassifier(max_depth=6, min_samples_leaf=13) #best choie so far\n",
        "tree_model.fit(X_train, y_train)\n",
        "tree_y_pred = tree_model.predict(X_test)\n",
        "cm = confusion_matrix(y_test, tree_y_pred)\n",
        "print(cm)\n",
        "\n",
        "false_negatives_indices = np.where((y_test == 1) & (tree_y_pred == 0))[0]\n",
        "false_positives_indices = np.where((y_test == 0) & (tree_y_pred == 1))[0]\n",
        "\n",
        "\n",
        "false_negatives_rows = X_test.iloc[false_negatives_indices]\n",
        "false_positives_rows = X_test.iloc[false_positives_indices]\n",
        "\n",
        "number_of_FN = len(false_negatives_rows)\n",
        "number_of_FP = len(false_positives_rows)\n",
        "\n",
        "loss_of_tree = np.sum(false_negatives_rows.MonthlyCharges)*12 -205*number_of_FN+number_of_FP*205\n",
        "print(f\"cost of tree : {loss_of_tree}\")\n",
        "\n",
        "#-------------------------------------------------------------------------------------------------\n",
        "# lasso\n",
        "lasso_log_reg = LogisticRegression(penalty='l1', solver='liblinear', C=0.050118723362727505)\n",
        "lasso_log_reg.fit(X_train_scaled, y_train)\n",
        "lasso_y_pred = lasso_log_reg.predict(X_test_scaled)\n",
        "false_negatives = np.where((y_test == 1) & (lasso_y_pred == 0))\n",
        "false_positives = np.where((y_test == 0) & (lasso_y_pred == 1))\n",
        "\n",
        "cm = confusion_matrix(y_test, lasso_y_pred)\n",
        "print(cm)\n",
        "FP = cm[0, 1]\n",
        "FN = cm[1, 0]\n",
        "\n",
        "false_negatives_indices = np.where((y_test == 1) & (lasso_y_pred == 0))[0]\n",
        "false_positives_indices = np.where((y_test == 0) & (lasso_y_pred == 1))[0]\n",
        "\n",
        "false_negatives_rows = X_test.iloc[false_negatives_indices]\n",
        "false_positives_rows = X_test.iloc[false_positives_indices]\n",
        "\n",
        "number_of_FN = len(false_negatives_rows)\n",
        "number_of_FP = len(false_positives_rows)\n",
        "\n",
        "loss_of_lasso = np.sum(false_negatives_rows.MonthlyCharges)*12 -205*number_of_FN+number_of_FP*205\n",
        "print(f\"cost of lasso {loss_of_lasso}\")\n",
        "\n"
      ]
    },
    {
      "cell_type": "code",
      "execution_count": null,
      "metadata": {
        "colab": {
          "background_save": true
        },
        "id": "YPNQvcnIaG4-",
        "outputId": "14011734-25ac-4258-8441-76e8d7714f7b"
      },
      "outputs": [
        {
          "name": "stdout",
          "output_type": "stream",
          "text": [
            "251\n"
          ]
        }
      ],
      "source": [
        "print(len(false_negatives_rows))"
      ]
    },
    {
      "cell_type": "code",
      "execution_count": null,
      "metadata": {
        "colab": {
          "background_save": true
        },
        "id": "c4IjZEYKxIiS",
        "outputId": "a33b243d-c3ba-4f87-8d6a-caaff384af07"
      },
      "outputs": [
        {
          "name": "stdout",
          "output_type": "stream",
          "text": [
            "[[1135  417]\n",
            " [ 112  446]]\n"
          ]
        }
      ],
      "source": [
        "\n",
        "lasso_probabilities = lasso_log_reg.predict_proba(X_test_scaled)[:, 1]\n",
        "\n",
        "# Set your desired threshold\n",
        "threshold = 0.28 # Example threshold\n",
        "\n",
        "# Adjust predictions based on the threshold\n",
        "lasso_y_pred_adjusted = (lasso_probabilities >= threshold).astype(int)\n",
        "\n",
        "\n",
        "cm_adjusted = confusion_matrix(y_test, lasso_y_pred_adjusted)\n",
        "print(cm_adjusted)\n"
      ]
    },
    {
      "cell_type": "code",
      "execution_count": null,
      "metadata": {
        "colab": {
          "background_save": true
        },
        "id": "7IV5VoSA0Ywl",
        "outputId": "7b3b83a0-d23e-4551-bc85-099f1cdb1fb5"
      },
      "outputs": [
        {
          "name": "stdout",
          "output_type": "stream",
          "text": [
            "Best tree Threshold: 0.28\n",
            "Minimal tree Total Cost: 164438.6\n",
            "Best lasso Threshold: 0.31\n",
            "Minimal lasso Total Cost: 151238.59999999998\n"
          ]
        }
      ],
      "source": [
        "#finding best threshold\n",
        "def calculate_cost(y_true, y_pred_proba, threshold):\n",
        "    y_pred = (y_pred_proba >= threshold).astype(int)\n",
        "\n",
        "    # Calculate confusion matrix elements\n",
        "    FP = np.sum((y_true == 0) & (y_pred == 1))  # False Positives\n",
        "    FN = np.sum((y_true == 1) & (y_pred == 0))  # False Negatives\n",
        "\n",
        "    false_negatives_indices = np.where((y_test == 1) & (y_pred == 0))[0]\n",
        "\n",
        "    false_negatives_rows = X_test.iloc[false_negatives_indices]\n",
        "\n",
        "    # Calculate costs\n",
        "    # Cost of false negatives: loss of contract value\n",
        "    cost_FN = np.sum(false_negatives_rows.MonthlyCharges) * 12 - 205 * FN\n",
        "    # Cost of false positives: cost of sending retention offers\n",
        "    cost_FP = 205 * FP\n",
        "    total_cost = cost_FN + cost_FP\n",
        "    return total_cost\n",
        "\n",
        "\n",
        "thresholds = np.arange(0.0, 1.0, 0.01)\n",
        "\n",
        "# Initialize variables to store the best cost and threshold\n",
        "best_cost_tree = float('inf')\n",
        "best_cost_lasso = float('inf')\n",
        "best_threshold_of_tree = 0\n",
        "best_threshold_of_lasso = 0\n",
        "\n",
        "# Calculate costs for both models\n",
        "for threshold in thresholds:\n",
        "    # Decision Tree\n",
        "    tree_cost = calculate_cost(y_test, tree_model.predict_proba(X_test)[:, 1],  threshold)\n",
        "\n",
        "    # Lasso Logistic Regression\n",
        "    lasso_cost = calculate_cost(y_test, lasso_log_reg.predict_proba(X_test_scaled)[:, 1],  threshold)\n",
        "\n",
        "    # Update best cost and threshold for Decision Tree\n",
        "    if tree_cost < best_cost_tree:\n",
        "        best_cost_tree = tree_cost\n",
        "        best_threshold_of_tree = threshold\n",
        "\n",
        "    # Update best cost and threshold for Lasso\n",
        "    if lasso_cost < best_cost_lasso:\n",
        "        best_cost_lasso = lasso_cost\n",
        "        best_threshold_of_lasso = threshold\n",
        "\n",
        "print(f\"Best tree Threshold: {best_threshold_of_tree}\")\n",
        "print(f\"Minimal tree Total Cost: {best_cost_tree}\")\n",
        "print(f\"Best lasso Threshold: {best_threshold_of_lasso}\")\n",
        "print(f\"Minimal lasso Total Cost: {best_cost_lasso}\")"
      ]
    },
    {
      "cell_type": "markdown",
      "metadata": {
        "id": "WoaH1KVMM700"
      },
      "source": [
        "# compare data-driven solutions with two baselines strategies"
      ]
    },
    {
      "cell_type": "code",
      "execution_count": null,
      "metadata": {
        "colab": {
          "base_uri": "https://localhost:8080/"
        },
        "id": "B_whHdIpajJt",
        "outputId": "a72e676d-0315-4fa2-be8d-bd7463cd2d35"
      },
      "outputs": [
        {
          "output_type": "stream",
          "name": "stdout",
          "text": [
            "[[1552    0]\n",
            " [ 558    0]]\n",
            "558\n"
          ]
        }
      ],
      "source": [
        "#doing nothing can mean predict all customer will not churn\n",
        "lasso_log_reg = LogisticRegression(penalty='l1', solver='liblinear', C=0.050118723362727505)\n",
        "lasso_log_reg.fit(X_train_scaled, y_train)\n",
        "lasso_y_proba = lasso_log_reg.predict_proba(X_test_scaled)[:, 1]\n",
        "\n",
        "custom_threshold = 1\n",
        "y_pred_custom = (lasso_y_proba >= custom_threshold).astype(int)\n",
        "cm = confusion_matrix(y_test, y_pred_custom)\n",
        "print(cm)\n",
        "false_negatives_indices = np.where((y_test == 1) & (y_pred_custom == 0))[0]\n",
        "\n",
        "false_negatives_rows = X_test.iloc[false_negatives_indices]\n",
        "print(len(false_negatives_rows))"
      ]
    },
    {
      "cell_type": "code",
      "execution_count": null,
      "metadata": {
        "colab": {
          "base_uri": "https://localhost:8080/",
          "height": 215
        },
        "id": "qZSe2ckb4soy",
        "outputId": "ecad16ce-f6a0-4297-9d7b-26f58c278e46"
      },
      "outputs": [
        {
          "output_type": "error",
          "ename": "NameError",
          "evalue": "name 'np' is not defined",
          "traceback": [
            "\u001b[0;31m---------------------------------------------------------------------------\u001b[0m",
            "\u001b[0;31mNameError\u001b[0m                                 Traceback (most recent call last)",
            "\u001b[0;32m<ipython-input-1-e120497e2e68>\u001b[0m in \u001b[0;36m<cell line: 4>\u001b[0;34m()\u001b[0m\n\u001b[1;32m      2\u001b[0m \u001b[0;31m# seems wrong modifie later\u001b[0m\u001b[0;34m\u001b[0m\u001b[0;34m\u001b[0m\u001b[0m\n\u001b[1;32m      3\u001b[0m \u001b[0;31m#need -205\u001b[0m\u001b[0;34m\u001b[0m\u001b[0;34m\u001b[0m\u001b[0m\n\u001b[0;32m----> 4\u001b[0;31m \u001b[0mcost_doing_nothing\u001b[0m \u001b[0;34m=\u001b[0m \u001b[0mnp\u001b[0m\u001b[0;34m.\u001b[0m\u001b[0msum\u001b[0m\u001b[0;34m(\u001b[0m\u001b[0mfalse_negatives_rows\u001b[0m\u001b[0;34m.\u001b[0m\u001b[0mMonthlyCharges\u001b[0m\u001b[0;34m)\u001b[0m\u001b[0;34m*\u001b[0m\u001b[0;36m12\u001b[0m\u001b[0;34m-\u001b[0m\u001b[0;36m205\u001b[0m\u001b[0;34m*\u001b[0m\u001b[0mlen\u001b[0m\u001b[0;34m(\u001b[0m\u001b[0mfalse_negatives_rows\u001b[0m\u001b[0;34m)\u001b[0m\u001b[0;34m\u001b[0m\u001b[0;34m\u001b[0m\u001b[0m\n\u001b[0m\u001b[1;32m      5\u001b[0m \u001b[0mprint\u001b[0m\u001b[0;34m(\u001b[0m\u001b[0;34mf\"cost of doing nothing: {cost_doing_nothing}\"\u001b[0m\u001b[0;34m)\u001b[0m\u001b[0;34m\u001b[0m\u001b[0;34m\u001b[0m\u001b[0m\n\u001b[1;32m      6\u001b[0m \u001b[0;34m\u001b[0m\u001b[0m\n",
            "\u001b[0;31mNameError\u001b[0m: name 'np' is not defined"
          ]
        }
      ],
      "source": [
        "# doing nothing\n",
        "# seems wrong modifie later\n",
        "#need -205\n",
        "cost_doing_nothing = np.sum(false_negatives_rows.MonthlyCharges)*12-205*len(false_negatives_rows)\n",
        "print(f\"cost of doing nothing: {cost_doing_nothing}\")\n",
        "\n",
        "# send everyone\n",
        "cost_sending_everyone = 205*len(X_test)\n",
        "print(f\"cost of sending retention to everyone: {cost_sending_everyone}\")\n",
        "\n",
        "# So data-driven solutions are better,cause the cost of data-driven solutions are lower."
      ]
    },
    {
      "cell_type": "code",
      "execution_count": null,
      "metadata": {
        "colab": {
          "background_save": true
        },
        "id": "RKTLxviVHMeu",
        "outputId": "e408be5a-f0d0-43c4-f706-58d3718e3152"
      },
      "outputs": [
        {
          "name": "stdout",
          "output_type": "stream",
          "text": [
            "cost_of_lasso is 183270\n",
            "cost_of_tree is 183475\n"
          ]
        }
      ],
      "source": [
        "proba_of_tree = tree_model.predict_proba(X_test)[:, 1]\n",
        "proba_of_lasso = lasso_log_reg.predict_proba(X_test_scaled)[:, 1]\n",
        "a = X_test.MonthlyCharges*12*proba_of_lasso-205\n",
        "send_indic = np.where((a > 0))[0]\n",
        "send = X_test.iloc[send_indic]\n",
        "cost_of_lasso = 205*len(send)\n",
        "print(f\"cost_of_lasso is {cost_of_lasso}\")\n",
        "\n",
        "\n",
        "b = X_test.MonthlyCharges*12*proba_of_tree-205\n",
        "send_indic = np.where((b > 0))[0]\n",
        "send = X_test.iloc[send_indic]\n",
        "cost_of_tree = 205*len(send)\n",
        "print(f\"cost_of_tree is {cost_of_tree}\")"
      ]
    },
    {
      "cell_type": "code",
      "execution_count": null,
      "metadata": {
        "colab": {
          "background_save": true
        },
        "id": "TpaF1EZ2N_M0",
        "outputId": "a3fe0d69-6402-41dc-d71a-425c9d9ea76d"
      },
      "outputs": [
        {
          "name": "stdout",
          "output_type": "stream",
          "text": [
            "The Decision Tree model is better than both baseline strategies.\n",
            "The Lasso Regression model is better than both baseline strategies.\n"
          ]
        }
      ],
      "source": [
        "# Conclusions\n",
        "if best_cost_tree < cost_doing_nothing and best_cost_tree < cost_sending_everyone:\n",
        "    print(\"The Decision Tree model is better than both baseline strategies.\")\n",
        "else:\n",
        "    print(\"The Decision Tree model is not better than both baseline strategies.\")\n",
        "\n",
        "if best_cost_lasso < cost_doing_nothing and best_cost_lasso < cost_sending_everyone:\n",
        "    print(\"The Lasso Regression model is better than both baseline strategies.\")\n",
        "else:\n",
        "    print(\"The Lasso Regression model is not better than both baseline strategies.\")"
      ]
    },
    {
      "cell_type": "code",
      "execution_count": null,
      "metadata": {
        "colab": {
          "background_save": true
        },
        "id": "G4DSwsTjgoJg"
      },
      "outputs": [],
      "source": []
    },
    {
      "cell_type": "markdown",
      "metadata": {
        "id": "RKNPxav-azDs"
      },
      "source": []
    }
  ],
  "metadata": {
    "colab": {
      "provenance": []
    },
    "kernelspec": {
      "display_name": "Python 3",
      "name": "python3"
    },
    "language_info": {
      "name": "python"
    }
  },
  "nbformat": 4,
  "nbformat_minor": 0
}